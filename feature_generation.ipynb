{
 "cells": [
  {
   "cell_type": "markdown",
   "source": [
    "# Not obvious features"
   ],
   "metadata": {
    "collapsed": false
   }
  },
  {
   "cell_type": "markdown",
   "source": [
    "### Debt features"
   ],
   "metadata": {
    "collapsed": false
   }
  },
  {
   "cell_type": "code",
   "execution_count": 3,
   "outputs": [],
   "source": [
    "import pandas as pd"
   ],
   "metadata": {
    "collapsed": false
   }
  },
  {
   "cell_type": "code",
   "execution_count": 4,
   "outputs": [
    {
     "data": {
      "text/plain": "   step      type    amount     nameOrig  oldbalanceOrg  newbalanceOrig  \\\n0     1   PAYMENT   9839.64  C1231006815       170136.0       160296.36   \n1     1   PAYMENT   1864.28  C1666544295        21249.0        19384.72   \n2     1  TRANSFER    181.00  C1305486145          181.0            0.00   \n3     1  CASH_OUT    181.00   C840083671          181.0            0.00   \n4     1   PAYMENT  11668.14  C2048537720        41554.0        29885.86   \n\n      nameDest  oldbalanceDest  newbalanceDest  isFraud  isFlaggedFraud  \n0  M1979787155             0.0             0.0        0               0  \n1  M2044282225             0.0             0.0        0               0  \n2   C553264065             0.0             0.0        1               0  \n3    C38997010         21182.0             0.0        1               0  \n4  M1230701703             0.0             0.0        0               0  ",
      "text/html": "<div>\n<style scoped>\n    .dataframe tbody tr th:only-of-type {\n        vertical-align: middle;\n    }\n\n    .dataframe tbody tr th {\n        vertical-align: top;\n    }\n\n    .dataframe thead th {\n        text-align: right;\n    }\n</style>\n<table border=\"1\" class=\"dataframe\">\n  <thead>\n    <tr style=\"text-align: right;\">\n      <th></th>\n      <th>step</th>\n      <th>type</th>\n      <th>amount</th>\n      <th>nameOrig</th>\n      <th>oldbalanceOrg</th>\n      <th>newbalanceOrig</th>\n      <th>nameDest</th>\n      <th>oldbalanceDest</th>\n      <th>newbalanceDest</th>\n      <th>isFraud</th>\n      <th>isFlaggedFraud</th>\n    </tr>\n  </thead>\n  <tbody>\n    <tr>\n      <th>0</th>\n      <td>1</td>\n      <td>PAYMENT</td>\n      <td>9839.64</td>\n      <td>C1231006815</td>\n      <td>170136.0</td>\n      <td>160296.36</td>\n      <td>M1979787155</td>\n      <td>0.0</td>\n      <td>0.0</td>\n      <td>0</td>\n      <td>0</td>\n    </tr>\n    <tr>\n      <th>1</th>\n      <td>1</td>\n      <td>PAYMENT</td>\n      <td>1864.28</td>\n      <td>C1666544295</td>\n      <td>21249.0</td>\n      <td>19384.72</td>\n      <td>M2044282225</td>\n      <td>0.0</td>\n      <td>0.0</td>\n      <td>0</td>\n      <td>0</td>\n    </tr>\n    <tr>\n      <th>2</th>\n      <td>1</td>\n      <td>TRANSFER</td>\n      <td>181.00</td>\n      <td>C1305486145</td>\n      <td>181.0</td>\n      <td>0.00</td>\n      <td>C553264065</td>\n      <td>0.0</td>\n      <td>0.0</td>\n      <td>1</td>\n      <td>0</td>\n    </tr>\n    <tr>\n      <th>3</th>\n      <td>1</td>\n      <td>CASH_OUT</td>\n      <td>181.00</td>\n      <td>C840083671</td>\n      <td>181.0</td>\n      <td>0.00</td>\n      <td>C38997010</td>\n      <td>21182.0</td>\n      <td>0.0</td>\n      <td>1</td>\n      <td>0</td>\n    </tr>\n    <tr>\n      <th>4</th>\n      <td>1</td>\n      <td>PAYMENT</td>\n      <td>11668.14</td>\n      <td>C2048537720</td>\n      <td>41554.0</td>\n      <td>29885.86</td>\n      <td>M1230701703</td>\n      <td>0.0</td>\n      <td>0.0</td>\n      <td>0</td>\n      <td>0</td>\n    </tr>\n  </tbody>\n</table>\n</div>"
     },
     "execution_count": 4,
     "metadata": {},
     "output_type": "execute_result"
    }
   ],
   "source": [
    "transactions = pd.read_csv('onlinefraud.csv')\n",
    "\n",
    "transactions.head()"
   ],
   "metadata": {
    "collapsed": false
   }
  },
  {
   "cell_type": "code",
   "execution_count": 5,
   "outputs": [],
   "source": [
    "transactions['has_debt'] = transactions['amount'] > transactions['oldbalanceOrg']\n",
    "transactions['debt'] = (transactions['amount'] - transactions['oldbalanceOrg']) * transactions['has_debt']"
   ],
   "metadata": {
    "collapsed": false
   }
  },
  {
   "cell_type": "markdown",
   "source": [
    "### Features associated with destination account"
   ],
   "metadata": {
    "collapsed": false
   }
  },
  {
   "cell_type": "markdown",
   "source": [
    "Let's group data by destination and calculated some statistics. It can provide us with not obvious features."
   ],
   "metadata": {
    "collapsed": false
   }
  },
  {
   "cell_type": "code",
   "execution_count": 6,
   "outputs": [
    {
     "name": "stderr",
     "output_type": "stream",
     "text": [
      "100%|██████████| 7/7 [00:18<00:00,  2.70s/it]\n"
     ]
    }
   ],
   "source": [
    "from tqdm import tqdm\n",
    "grouped_transactions = transactions.groupby('nameDest')\n",
    "info_for_group = pd.DataFrame()\n",
    "info_for_group['origins_count'] = grouped_transactions['nameOrig'].count()\n",
    "columns_of_interest = [\n",
    "    'amount',\n",
    "    'oldbalanceOrg',\n",
    "    'newbalanceOrig',\n",
    "    'oldbalanceDest',\n",
    "    'newbalanceDest',\n",
    "    'step',\n",
    "    # remove these columns to avoid linear dependency between columns\n",
    "    # 'actual_amount_spent',\n",
    "    # 'actual_amount_received',\n",
    "    'has_debt'\n",
    "]\n",
    "\n",
    "aggregation_methods = ['min', 'max', 'std', 'median', 'mean']\n",
    "for column in tqdm(columns_of_interest):\n",
    "    for method in aggregation_methods:\n",
    "        info_for_group[f'{method}_{column}'] = grouped_transactions[column].aggregate(method)\n",
    "\n",
    "transactions = pd.merge(\n",
    "    left=transactions,\n",
    "    right=info_for_group.reset_index(),\n",
    "    on='nameDest'\n",
    ")"
   ],
   "metadata": {
    "collapsed": false
   }
  },
  {
   "cell_type": "code",
   "execution_count": 7,
   "outputs": [
    {
     "data": {
      "text/plain": "std_amount            True\nstd_oldbalanceOrg     True\nstd_newbalanceOrig    True\nstd_oldbalanceDest    True\nstd_newbalanceDest    True\nstd_step              True\nstd_has_debt          True\ndtype: bool"
     },
     "execution_count": 7,
     "metadata": {},
     "output_type": "execute_result"
    }
   ],
   "source": [
    "has_none = transactions.isna().any(axis=0)\n",
    "has_none[has_none]"
   ],
   "metadata": {
    "collapsed": false
   }
  },
  {
   "cell_type": "markdown",
   "source": [
    "Std columns has none when there is no deviations among data. Let's fill it with zero."
   ],
   "metadata": {
    "collapsed": false
   }
  },
  {
   "cell_type": "code",
   "execution_count": 8,
   "outputs": [],
   "source": [
    "transactions.fillna(0, inplace=True)"
   ],
   "metadata": {
    "collapsed": false
   }
  },
  {
   "cell_type": "code",
   "execution_count": 9,
   "outputs": [
    {
     "data": {
      "text/plain": "Series([], dtype: bool)"
     },
     "execution_count": 9,
     "metadata": {},
     "output_type": "execute_result"
    }
   ],
   "source": [
    "has_none = transactions.isna().any(axis=0)\n",
    "has_none[has_none]"
   ],
   "metadata": {
    "collapsed": false
   }
  },
  {
   "cell_type": "markdown",
   "source": [
    "Now each transaction contains information about all transaction of its destination account. Thus, we have to keep all transactions with the same destination in one group to prevent data leak."
   ],
   "metadata": {
    "collapsed": false
   }
  },
  {
   "cell_type": "code",
   "execution_count": 10,
   "outputs": [
    {
     "data": {
      "text/plain": "0.0047010514797013"
     },
     "execution_count": 10,
     "metadata": {},
     "output_type": "execute_result"
    }
   ],
   "source": [
    "transactions.groupby('nameDest')['isFraud'].std().mean()"
   ],
   "metadata": {
    "collapsed": false
   }
  },
  {
   "cell_type": "markdown",
   "source": [
    "As we can see, this value is not zero, so transactions with the same destination can be either fraud or not, but we still need to keep the whole group in one set (train/test/validation)."
   ],
   "metadata": {
    "collapsed": false
   }
  },
  {
   "cell_type": "markdown",
   "source": [
    "### Account type"
   ],
   "metadata": {
    "collapsed": false
   }
  },
  {
   "cell_type": "markdown",
   "source": [
    "Account name start with letter M or C, which can indicate different types of accounts."
   ],
   "metadata": {
    "collapsed": false
   }
  },
  {
   "cell_type": "code",
   "execution_count": 11,
   "outputs": [],
   "source": [
    "transactions['nameDestFirstLetter'] = transactions['nameDest'].str[0]"
   ],
   "metadata": {
    "collapsed": false
   }
  },
  {
   "cell_type": "code",
   "execution_count": 12,
   "outputs": [
    {
     "data": {
      "text/plain": "<AxesSubplot: >"
     },
     "execution_count": 12,
     "metadata": {},
     "output_type": "execute_result"
    },
    {
     "data": {
      "text/plain": "<Figure size 640x480 with 1 Axes>",
      "image/png": "[encoded data removed]"
     },
     "metadata": {},
     "output_type": "display_data"
    }
   ],
   "source": [
    "transactions['nameDest'].str[1:].astype(int).hist()"
   ],
   "metadata": {
    "collapsed": false
   }
  },
  {
   "cell_type": "markdown",
   "source": [
    "As we can see, number of bank account looks like random variable which doesn't contain any information."
   ],
   "metadata": {
    "collapsed": false
   }
  },
  {
   "cell_type": "markdown",
   "source": [
    "### Money related features"
   ],
   "metadata": {
    "collapsed": false
   }
  },
  {
   "cell_type": "code",
   "execution_count": 13,
   "outputs": [],
   "source": [
    "# fraudsters more probably don't specify cents or even ones\n",
    "transactions['amount_has_cents'] = (transactions['amount'] % 1 != 0)\n",
    "transactions['amount_has_units'] = (transactions['amount'] % 10 != 0)\n",
    "transactions['amount_has_tens'] = (transactions['amount'] % 100 != 0)\n",
    "transactions['amount_has_hundreds'] = (transactions['amount'] % 1000 != 0)\n",
    "# fraudsters can try to transfer all available money\n",
    "transactions['amount_is_equal_to_balance'] = (transactions['amount'] == transactions['oldbalanceOrg'])"
   ],
   "metadata": {
    "collapsed": false
   }
  },
  {
   "cell_type": "markdown",
   "source": [
    "### Categorical variables encoding"
   ],
   "metadata": {
    "collapsed": false
   }
  },
  {
   "cell_type": "code",
   "execution_count": 14,
   "outputs": [
    {
     "data": {
      "text/plain": "step                            int64\ntype                           object\namount                        float64\nnameOrig                       object\noldbalanceOrg                 float64\nnewbalanceOrig                float64\nnameDest                       object\noldbalanceDest                float64\nnewbalanceDest                float64\nisFraud                         int64\nisFlaggedFraud                  int64\nhas_debt                         bool\ndebt                          float64\norigins_count                   int64\nmin_amount                    float64\nmax_amount                    float64\nstd_amount                    float64\nmedian_amount                 float64\nmean_amount                   float64\nmin_oldbalanceOrg             float64\nmax_oldbalanceOrg             float64\nstd_oldbalanceOrg             float64\nmedian_oldbalanceOrg          float64\nmean_oldbalanceOrg            float64\nmin_newbalanceOrig            float64\nmax_newbalanceOrig            float64\nstd_newbalanceOrig            float64\nmedian_newbalanceOrig         float64\nmean_newbalanceOrig           float64\nmin_oldbalanceDest            float64\nmax_oldbalanceDest            float64\nstd_oldbalanceDest            float64\nmedian_oldbalanceDest         float64\nmean_oldbalanceDest           float64\nmin_newbalanceDest            float64\nmax_newbalanceDest            float64\nstd_newbalanceDest            float64\nmedian_newbalanceDest         float64\nmean_newbalanceDest           float64\nmin_step                        int64\nmax_step                        int64\nstd_step                      float64\nmedian_step                   float64\nmean_step                     float64\nmin_has_debt                     bool\nmax_has_debt                     bool\nstd_has_debt                  float64\nmedian_has_debt               float64\nmean_has_debt                 float64\nnameDestFirstLetter            object\namount_has_cents                 bool\namount_has_units                 bool\namount_has_tens                  bool\namount_has_hundreds              bool\namount_is_equal_to_balance       bool\ndtype: object"
     },
     "execution_count": 14,
     "metadata": {},
     "output_type": "execute_result"
    }
   ],
   "source": [
    "transactions.dtypes"
   ],
   "metadata": {
    "collapsed": false
   }
  },
  {
   "cell_type": "code",
   "execution_count": 15,
   "outputs": [],
   "source": [
    "categorical_variables = ['type', 'nameDestFirstLetter']\n",
    "\n",
    "for variable in categorical_variables:\n",
    "    transactions[f'{variable}_code'] = pd.Categorical(transactions[variable]).codes\n",
    "    for value in transactions[variable].unique()[:-1]:\n",
    "        transactions[f'{variable}={value}'] = transactions[variable] == value"
   ],
   "metadata": {
    "collapsed": false
   }
  },
  {
   "cell_type": "markdown",
   "source": [
    "### Drop extra features"
   ],
   "metadata": {
    "collapsed": false
   }
  },
  {
   "cell_type": "code",
   "execution_count": 16,
   "outputs": [
    {
     "data": {
      "text/plain": "   step      type     amount     nameOrig  oldbalanceOrg  newbalanceOrig  \\\n0     1   PAYMENT    9839.64  C1231006815      170136.00       160296.36   \n1     1   PAYMENT    1864.28  C1666544295       21249.00        19384.72   \n2     1  TRANSFER     181.00  C1305486145         181.00            0.00   \n3     6  TRANSFER  109985.65   C570434649       41851.00            0.00   \n4     7   CASH_IN   10256.20   C111105514     3766080.24      3776336.45   \n\n      nameDest  oldbalanceDest  newbalanceDest  isFraud  isFlaggedFraud  \\\n0  M1979787155            0.00            0.00        0               0   \n1  M2044282225            0.00            0.00        0               0   \n2   C553264065            0.00            0.00        1               0   \n3   C553264065            0.00       109985.65        0               0   \n4   C553264065       109985.65        99729.44        0               0   \n\n   has_debt      debt  origins_count  min_amount  max_amount     std_amount  \\\n0     False     -0.00              1     9839.64     9839.64       0.000000   \n1     False     -0.00              1     1864.28     1864.28       0.000000   \n2     False      0.00             44      181.00  1447322.21  252655.757617   \n3      True  68134.65             44      181.00  1447322.21  252655.757617   \n4     False     -0.00             44      181.00  1447322.21  252655.757617   \n\n   median_amount    mean_amount  min_oldbalanceOrg  max_oldbalanceOrg  \\\n0       9839.640    9839.640000           170136.0          170136.00   \n1       1864.280    1864.280000            21249.0           21249.00   \n2     139366.105  225517.832045                0.0        21782433.66   \n3     139366.105  225517.832045                0.0        21782433.66   \n4     139366.105  225517.832045                0.0        21782433.66   \n\n   std_oldbalanceOrg  median_oldbalanceOrg  mean_oldbalanceOrg  \\\n0       0.000000e+00              170136.0        1.701360e+05   \n1       0.000000e+00               21249.0        2.124900e+04   \n2       5.109399e+06               10170.5        1.915190e+06   \n3       5.109399e+06               10170.5        1.915190e+06   \n4       5.109399e+06               10170.5        1.915190e+06   \n\n   min_newbalanceOrig  max_newbalanceOrig  std_newbalanceOrig  \\\n0           160296.36           160296.36        0.000000e+00   \n1            19384.72            19384.72        0.000000e+00   \n2                0.00         22012047.86        5.160588e+06   \n3                0.00         22012047.86        5.160588e+06   \n4                0.00         22012047.86        5.160588e+06   \n\n   median_newbalanceOrig  mean_newbalanceOrig  min_oldbalanceDest  \\\n0              160296.36         1.602964e+05                 0.0   \n1               19384.72         1.938472e+04                 0.0   \n2                   0.00         1.971241e+06                 0.0   \n3                   0.00         1.971241e+06                 0.0   \n4                   0.00         1.971241e+06                 0.0   \n\n   max_oldbalanceDest  std_oldbalanceDest  median_oldbalanceDest  \\\n0                0.00        0.000000e+00                   0.00   \n1                0.00        0.000000e+00                   0.00   \n2          4115621.95        1.311491e+06             2820318.13   \n3          4115621.95        1.311491e+06             2820318.13   \n4          4115621.95        1.311491e+06             2820318.13   \n\n   mean_oldbalanceDest  min_newbalanceDest  max_newbalanceDest  \\\n0         0.000000e+00                 0.0                0.00   \n1         0.000000e+00                 0.0                0.00   \n2         2.455461e+06                 0.0          4115621.95   \n3         2.455461e+06                 0.0          4115621.95   \n4         2.455461e+06                 0.0          4115621.95   \n\n   std_newbalanceDest  median_newbalanceDest  mean_newbalanceDest  min_step  \\\n0        0.000000e+00                   0.00         0.000000e+00         1   \n1        0.000000e+00                   0.00         0.000000e+00         1   \n2        1.279824e+06             2820318.13         2.534052e+06         1   \n3        1.279824e+06             2820318.13         2.534052e+06         1   \n4        1.279824e+06             2820318.13         2.534052e+06         1   \n\n   max_step    std_step  median_step   mean_step  min_has_debt  max_has_debt  \\\n0         1    0.000000          1.0    1.000000         False         False   \n1         1    0.000000          1.0    1.000000         False         False   \n2       400  130.627992         41.5  118.954545         False          True   \n3       400  130.627992         41.5  118.954545         False          True   \n4       400  130.627992         41.5  118.954545         False          True   \n\n   std_has_debt  median_has_debt  mean_has_debt nameDestFirstLetter  \\\n0      0.000000              0.0       0.000000                   M   \n1      0.000000              0.0       0.000000                   M   \n2      0.461522              1.0       0.704545                   C   \n3      0.461522              1.0       0.704545                   C   \n4      0.461522              1.0       0.704545                   C   \n\n   amount_has_cents  amount_has_units  amount_has_tens  amount_has_hundreds  \\\n0              True              True             True                 True   \n1              True              True             True                 True   \n2             False              True             True                 True   \n3              True              True             True                 True   \n4              True              True             True                 True   \n\n   amount_is_equal_to_balance  type_code  type=PAYMENT  type=TRANSFER  \\\n0                       False          3          True          False   \n1                       False          3          True          False   \n2                        True          4         False           True   \n3                       False          4         False           True   \n4                       False          0         False          False   \n\n   type=CASH_IN  type=CASH_OUT  nameDestFirstLetter_code  \\\n0         False          False                         1   \n1         False          False                         1   \n2         False          False                         0   \n3         False          False                         0   \n4          True          False                         0   \n\n   nameDestFirstLetter=M  \n0                   True  \n1                   True  \n2                  False  \n3                  False  \n4                  False  ",
      "text/html": "<div>\n<style scoped>\n    .dataframe tbody tr th:only-of-type {\n        vertical-align: middle;\n    }\n\n    .dataframe tbody tr th {\n        vertical-align: top;\n    }\n\n    .dataframe thead th {\n        text-align: right;\n    }\n</style>\n<table border=\"1\" class=\"dataframe\">\n  <thead>\n    <tr style=\"text-align: right;\">\n      <th></th>\n      <th>step</th>\n      <th>type</th>\n      <th>amount</th>\n      <th>nameOrig</th>\n      <th>oldbalanceOrg</th>\n      <th>newbalanceOrig</th>\n      <th>nameDest</th>\n      <th>oldbalanceDest</th>\n      <th>newbalanceDest</th>\n      <th>isFraud</th>\n      <th>isFlaggedFraud</th>\n      <th>has_debt</th>\n      <th>debt</th>\n      <th>origins_count</th>\n      <th>min_amount</th>\n      <th>max_amount</th>\n      <th>std_amount</th>\n      <th>median_amount</th>\n      <th>mean_amount</th>\n      <th>min_oldbalanceOrg</th>\n      <th>max_oldbalanceOrg</th>\n      <th>std_oldbalanceOrg</th>\n      <th>median_oldbalanceOrg</th>\n      <th>mean_oldbalanceOrg</th>\n      <th>min_newbalanceOrig</th>\n      <th>max_newbalanceOrig</th>\n      <th>std_newbalanceOrig</th>\n      <th>median_newbalanceOrig</th>\n      <th>mean_newbalanceOrig</th>\n      <th>min_oldbalanceDest</th>\n      <th>max_oldbalanceDest</th>\n      <th>std_oldbalanceDest</th>\n      <th>median_oldbalanceDest</th>\n      <th>mean_oldbalanceDest</th>\n      <th>min_newbalanceDest</th>\n      <th>max_newbalanceDest</th>\n      <th>std_newbalanceDest</th>\n      <th>median_newbalanceDest</th>\n      <th>mean_newbalanceDest</th>\n      <th>min_step</th>\n      <th>max_step</th>\n      <th>std_step</th>\n      <th>median_step</th>\n      <th>mean_step</th>\n      <th>min_has_debt</th>\n      <th>max_has_debt</th>\n      <th>std_has_debt</th>\n      <th>median_has_debt</th>\n      <th>mean_has_debt</th>\n      <th>nameDestFirstLetter</th>\n      <th>amount_has_cents</th>\n      <th>amount_has_units</th>\n      <th>amount_has_tens</th>\n      <th>amount_has_hundreds</th>\n      <th>amount_is_equal_to_balance</th>\n      <th>type_code</th>\n      <th>type=PAYMENT</th>\n      <th>type=TRANSFER</th>\n      <th>type=CASH_IN</th>\n      <th>type=CASH_OUT</th>\n      <th>nameDestFirstLetter_code</th>\n      <th>nameDestFirstLetter=M</th>\n    </tr>\n  </thead>\n  <tbody>\n    <tr>\n      <th>0</th>\n      <td>1</td>\n      <td>PAYMENT</td>\n      <td>9839.64</td>\n      <td>C1231006815</td>\n      <td>170136.00</td>\n      <td>160296.36</td>\n      <td>M1979787155</td>\n      <td>0.00</td>\n      <td>0.00</td>\n      <td>0</td>\n      <td>0</td>\n      <td>False</td>\n      <td>-0.00</td>\n      <td>1</td>\n      <td>9839.64</td>\n      <td>9839.64</td>\n      <td>0.000000</td>\n      <td>9839.640</td>\n      <td>9839.640000</td>\n      <td>170136.0</td>\n      <td>170136.00</td>\n      <td>0.000000e+00</td>\n      <td>170136.0</td>\n      <td>1.701360e+05</td>\n      <td>160296.36</td>\n      <td>160296.36</td>\n      <td>0.000000e+00</td>\n      <td>160296.36</td>\n      <td>1.602964e+05</td>\n      <td>0.0</td>\n      <td>0.00</td>\n      <td>0.000000e+00</td>\n      <td>0.00</td>\n      <td>0.000000e+00</td>\n      <td>0.0</td>\n      <td>0.00</td>\n      <td>0.000000e+00</td>\n      <td>0.00</td>\n      <td>0.000000e+00</td>\n      <td>1</td>\n      <td>1</td>\n      <td>0.000000</td>\n      <td>1.0</td>\n      <td>1.000000</td>\n      <td>False</td>\n      <td>False</td>\n      <td>0.000000</td>\n      <td>0.0</td>\n      <td>0.000000</td>\n      <td>M</td>\n      <td>True</td>\n      <td>True</td>\n      <td>True</td>\n      <td>True</td>\n      <td>False</td>\n      <td>3</td>\n      <td>True</td>\n      <td>False</td>\n      <td>False</td>\n      <td>False</td>\n      <td>1</td>\n      <td>True</td>\n    </tr>\n    <tr>\n      <th>1</th>\n      <td>1</td>\n      <td>PAYMENT</td>\n      <td>1864.28</td>\n      <td>C1666544295</td>\n      <td>21249.00</td>\n      <td>19384.72</td>\n      <td>M2044282225</td>\n      <td>0.00</td>\n      <td>0.00</td>\n      <td>0</td>\n      <td>0</td>\n      <td>False</td>\n      <td>-0.00</td>\n      <td>1</td>\n      <td>1864.28</td>\n      <td>1864.28</td>\n      <td>0.000000</td>\n      <td>1864.280</td>\n      <td>1864.280000</td>\n      <td>21249.0</td>\n      <td>21249.00</td>\n      <td>0.000000e+00</td>\n      <td>21249.0</td>\n      <td>2.124900e+04</td>\n      <td>19384.72</td>\n      <td>19384.72</td>\n      <td>0.000000e+00</td>\n      <td>19384.72</td>\n      <td>1.938472e+04</td>\n      <td>0.0</td>\n      <td>0.00</td>\n      <td>0.000000e+00</td>\n      <td>0.00</td>\n      <td>0.000000e+00</td>\n      <td>0.0</td>\n      <td>0.00</td>\n      <td>0.000000e+00</td>\n      <td>0.00</td>\n      <td>0.000000e+00</td>\n      <td>1</td>\n      <td>1</td>\n      <td>0.000000</td>\n      <td>1.0</td>\n      <td>1.000000</td>\n      <td>False</td>\n      <td>False</td>\n      <td>0.000000</td>\n      <td>0.0</td>\n      <td>0.000000</td>\n      <td>M</td>\n      <td>True</td>\n      <td>True</td>\n      <td>True</td>\n      <td>True</td>\n      <td>False</td>\n      <td>3</td>\n      <td>True</td>\n      <td>False</td>\n      <td>False</td>\n      <td>False</td>\n      <td>1</td>\n      <td>True</td>\n    </tr>\n    <tr>\n      <th>2</th>\n      <td>1</td>\n      <td>TRANSFER</td>\n      <td>181.00</td>\n      <td>C1305486145</td>\n      <td>181.00</td>\n      <td>0.00</td>\n      <td>C553264065</td>\n      <td>0.00</td>\n      <td>0.00</td>\n      <td>1</td>\n      <td>0</td>\n      <td>False</td>\n      <td>0.00</td>\n      <td>44</td>\n      <td>181.00</td>\n      <td>1447322.21</td>\n      <td>252655.757617</td>\n      <td>139366.105</td>\n      <td>225517.832045</td>\n      <td>0.0</td>\n      <td>21782433.66</td>\n      <td>5.109399e+06</td>\n      <td>10170.5</td>\n      <td>1.915190e+06</td>\n      <td>0.00</td>\n      <td>22012047.86</td>\n      <td>5.160588e+06</td>\n      <td>0.00</td>\n      <td>1.971241e+06</td>\n      <td>0.0</td>\n      <td>4115621.95</td>\n      <td>1.311491e+06</td>\n      <td>2820318.13</td>\n      <td>2.455461e+06</td>\n      <td>0.0</td>\n      <td>4115621.95</td>\n      <td>1.279824e+06</td>\n      <td>2820318.13</td>\n      <td>2.534052e+06</td>\n      <td>1</td>\n      <td>400</td>\n      <td>130.627992</td>\n      <td>41.5</td>\n      <td>118.954545</td>\n      <td>False</td>\n      <td>True</td>\n      <td>0.461522</td>\n      <td>1.0</td>\n      <td>0.704545</td>\n      <td>C</td>\n      <td>False</td>\n      <td>True</td>\n      <td>True</td>\n      <td>True</td>\n      <td>True</td>\n      <td>4</td>\n      <td>False</td>\n      <td>True</td>\n      <td>False</td>\n      <td>False</td>\n      <td>0</td>\n      <td>False</td>\n    </tr>\n    <tr>\n      <th>3</th>\n      <td>6</td>\n      <td>TRANSFER</td>\n      <td>109985.65</td>\n      <td>C570434649</td>\n      <td>41851.00</td>\n      <td>0.00</td>\n      <td>C553264065</td>\n      <td>0.00</td>\n      <td>109985.65</td>\n      <td>0</td>\n      <td>0</td>\n      <td>True</td>\n      <td>68134.65</td>\n      <td>44</td>\n      <td>181.00</td>\n      <td>1447322.21</td>\n      <td>252655.757617</td>\n      <td>139366.105</td>\n      <td>225517.832045</td>\n      <td>0.0</td>\n      <td>21782433.66</td>\n      <td>5.109399e+06</td>\n      <td>10170.5</td>\n      <td>1.915190e+06</td>\n      <td>0.00</td>\n      <td>22012047.86</td>\n      <td>5.160588e+06</td>\n      <td>0.00</td>\n      <td>1.971241e+06</td>\n      <td>0.0</td>\n      <td>4115621.95</td>\n      <td>1.311491e+06</td>\n      <td>2820318.13</td>\n      <td>2.455461e+06</td>\n      <td>0.0</td>\n      <td>4115621.95</td>\n      <td>1.279824e+06</td>\n      <td>2820318.13</td>\n      <td>2.534052e+06</td>\n      <td>1</td>\n      <td>400</td>\n      <td>130.627992</td>\n      <td>41.5</td>\n      <td>118.954545</td>\n      <td>False</td>\n      <td>True</td>\n      <td>0.461522</td>\n      <td>1.0</td>\n      <td>0.704545</td>\n      <td>C</td>\n      <td>True</td>\n      <td>True</td>\n      <td>True</td>\n      <td>True</td>\n      <td>False</td>\n      <td>4</td>\n      <td>False</td>\n      <td>True</td>\n      <td>False</td>\n      <td>False</td>\n      <td>0</td>\n      <td>False</td>\n    </tr>\n    <tr>\n      <th>4</th>\n      <td>7</td>\n      <td>CASH_IN</td>\n      <td>10256.20</td>\n      <td>C111105514</td>\n      <td>3766080.24</td>\n      <td>3776336.45</td>\n      <td>C553264065</td>\n      <td>109985.65</td>\n      <td>99729.44</td>\n      <td>0</td>\n      <td>0</td>\n      <td>False</td>\n      <td>-0.00</td>\n      <td>44</td>\n      <td>181.00</td>\n      <td>1447322.21</td>\n      <td>252655.757617</td>\n      <td>139366.105</td>\n      <td>225517.832045</td>\n      <td>0.0</td>\n      <td>21782433.66</td>\n      <td>5.109399e+06</td>\n      <td>10170.5</td>\n      <td>1.915190e+06</td>\n      <td>0.00</td>\n      <td>22012047.86</td>\n      <td>5.160588e+06</td>\n      <td>0.00</td>\n      <td>1.971241e+06</td>\n      <td>0.0</td>\n      <td>4115621.95</td>\n      <td>1.311491e+06</td>\n      <td>2820318.13</td>\n      <td>2.455461e+06</td>\n      <td>0.0</td>\n      <td>4115621.95</td>\n      <td>1.279824e+06</td>\n      <td>2820318.13</td>\n      <td>2.534052e+06</td>\n      <td>1</td>\n      <td>400</td>\n      <td>130.627992</td>\n      <td>41.5</td>\n      <td>118.954545</td>\n      <td>False</td>\n      <td>True</td>\n      <td>0.461522</td>\n      <td>1.0</td>\n      <td>0.704545</td>\n      <td>C</td>\n      <td>True</td>\n      <td>True</td>\n      <td>True</td>\n      <td>True</td>\n      <td>False</td>\n      <td>0</td>\n      <td>False</td>\n      <td>False</td>\n      <td>True</td>\n      <td>False</td>\n      <td>0</td>\n      <td>False</td>\n    </tr>\n  </tbody>\n</table>\n</div>"
     },
     "execution_count": 16,
     "metadata": {},
     "output_type": "execute_result"
    }
   ],
   "source": [
    "pd.set_option('display.max_columns', 500)\n",
    "transactions.head()"
   ],
   "metadata": {
    "collapsed": false
   }
  },
  {
   "cell_type": "code",
   "execution_count": 17,
   "outputs": [],
   "source": [
    "extra_features = [\n",
    "    'type',\n",
    "    'nameDest',\n",
    "    'nameOrig'\n",
    "]\n",
    "transactions.drop(columns=extra_features, inplace=True)"
   ],
   "metadata": {
    "collapsed": false
   }
  },
  {
   "cell_type": "markdown",
   "source": [
    "### Save results"
   ],
   "metadata": {
    "collapsed": false
   }
  },
  {
   "cell_type": "code",
   "execution_count": 19,
   "outputs": [],
   "source": [
    "transactions.to_csv('onlinefraud_with_features.csv')"
   ],
   "metadata": {
    "collapsed": false
   }
  }
 ],
 "metadata": {
  "kernelspec": {
   "display_name": "Python 3",
   "language": "python",
   "name": "python3"
  },
  "language_info": {
   "codemirror_mode": {
    "name": "ipython",
    "version": 2
   },
   "file_extension": ".py",
   "mimetype": "text/x-python",
   "name": "python",
   "nbconvert_exporter": "python",
   "pygments_lexer": "ipython2",
   "version": "2.7.6"
  }
 },
 "nbformat": 4,
 "nbformat_minor": 0
}
