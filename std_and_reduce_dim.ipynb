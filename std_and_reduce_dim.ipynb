{
 "cells": [
  {
   "cell_type": "markdown",
   "source": [
    "# Standardization"
   ],
   "metadata": {
    "collapsed": false
   }
  },
  {
   "cell_type": "code",
   "execution_count": 13,
   "outputs": [],
   "source": [
    "import pandas as pd\n",
    "from matplotlib import pyplot as plt\n",
    "from sklearn.model_selection import train_test_split, GroupShuffleSplit\n",
    "\n",
    "plt.rcParams[\"figure.figsize\"] = (20, 9)\n",
    "pd.set_option('display.max_columns', 500)\n"
   ],
   "metadata": {
    "collapsed": false
   }
  },
  {
   "cell_type": "code",
   "execution_count": 5,
   "outputs": [
    {
     "data": {
      "text/plain": "   Unnamed: 0  step     amount  oldbalanceOrg  newbalanceOrig  oldbalanceDest  \\\n0           0     1    9839.64      170136.00       160296.36            0.00   \n1           1     1    1864.28       21249.00        19384.72            0.00   \n2           2     1     181.00         181.00            0.00            0.00   \n3           3     6  109985.65       41851.00            0.00            0.00   \n4           4     7   10256.20     3766080.24      3776336.45       109985.65   \n\n   newbalanceDest  isFraud  isFlaggedFraud  has_debt      debt  origins_count  \\\n0            0.00        0               0     False     -0.00              1   \n1            0.00        0               0     False     -0.00              1   \n2            0.00        1               0     False      0.00             44   \n3       109985.65        0               0      True  68134.65             44   \n4        99729.44        0               0     False     -0.00             44   \n\n   min_amount  max_amount     std_amount  median_amount    mean_amount  \\\n0     9839.64     9839.64       0.000000       9839.640    9839.640000   \n1     1864.28     1864.28       0.000000       1864.280    1864.280000   \n2      181.00  1447322.21  252655.757617     139366.105  225517.832045   \n3      181.00  1447322.21  252655.757617     139366.105  225517.832045   \n4      181.00  1447322.21  252655.757617     139366.105  225517.832045   \n\n   min_oldbalanceOrg  max_oldbalanceOrg  std_oldbalanceOrg  \\\n0           170136.0          170136.00       0.000000e+00   \n1            21249.0           21249.00       0.000000e+00   \n2                0.0        21782433.66       5.109399e+06   \n3                0.0        21782433.66       5.109399e+06   \n4                0.0        21782433.66       5.109399e+06   \n\n   median_oldbalanceOrg  mean_oldbalanceOrg  min_newbalanceOrig  \\\n0              170136.0        1.701360e+05           160296.36   \n1               21249.0        2.124900e+04            19384.72   \n2               10170.5        1.915190e+06                0.00   \n3               10170.5        1.915190e+06                0.00   \n4               10170.5        1.915190e+06                0.00   \n\n   max_newbalanceOrig  std_newbalanceOrig  median_newbalanceOrig  \\\n0           160296.36        0.000000e+00              160296.36   \n1            19384.72        0.000000e+00               19384.72   \n2         22012047.86        5.160588e+06                   0.00   \n3         22012047.86        5.160588e+06                   0.00   \n4         22012047.86        5.160588e+06                   0.00   \n\n   mean_newbalanceOrig  min_oldbalanceDest  max_oldbalanceDest  \\\n0         1.602964e+05                 0.0                0.00   \n1         1.938472e+04                 0.0                0.00   \n2         1.971241e+06                 0.0          4115621.95   \n3         1.971241e+06                 0.0          4115621.95   \n4         1.971241e+06                 0.0          4115621.95   \n\n   std_oldbalanceDest  median_oldbalanceDest  mean_oldbalanceDest  \\\n0        0.000000e+00                   0.00         0.000000e+00   \n1        0.000000e+00                   0.00         0.000000e+00   \n2        1.311491e+06             2820318.13         2.455461e+06   \n3        1.311491e+06             2820318.13         2.455461e+06   \n4        1.311491e+06             2820318.13         2.455461e+06   \n\n   min_newbalanceDest  max_newbalanceDest  std_newbalanceDest  \\\n0                 0.0                0.00        0.000000e+00   \n1                 0.0                0.00        0.000000e+00   \n2                 0.0          4115621.95        1.279824e+06   \n3                 0.0          4115621.95        1.279824e+06   \n4                 0.0          4115621.95        1.279824e+06   \n\n   median_newbalanceDest  mean_newbalanceDest  min_step  max_step    std_step  \\\n0                   0.00         0.000000e+00         1         1    0.000000   \n1                   0.00         0.000000e+00         1         1    0.000000   \n2             2820318.13         2.534052e+06         1       400  130.627992   \n3             2820318.13         2.534052e+06         1       400  130.627992   \n4             2820318.13         2.534052e+06         1       400  130.627992   \n\n   median_step   mean_step  min_has_debt  max_has_debt  std_has_debt  \\\n0          1.0    1.000000         False         False      0.000000   \n1          1.0    1.000000         False         False      0.000000   \n2         41.5  118.954545         False          True      0.461522   \n3         41.5  118.954545         False          True      0.461522   \n4         41.5  118.954545         False          True      0.461522   \n\n   median_has_debt  mean_has_debt nameDestFirstLetter  amount_has_cents  \\\n0              0.0       0.000000                   M              True   \n1              0.0       0.000000                   M              True   \n2              1.0       0.704545                   C             False   \n3              1.0       0.704545                   C              True   \n4              1.0       0.704545                   C              True   \n\n   amount_has_units  amount_has_tens  amount_has_hundreds  \\\n0              True             True                 True   \n1              True             True                 True   \n2              True             True                 True   \n3              True             True                 True   \n4              True             True                 True   \n\n   amount_is_equal_to_balance  type_code  type=PAYMENT  type=TRANSFER  \\\n0                       False          3          True          False   \n1                       False          3          True          False   \n2                        True          4         False           True   \n3                       False          4         False           True   \n4                       False          0         False          False   \n\n   type=CASH_IN  type=CASH_OUT  nameDestFirstLetter_code  \\\n0         False          False                         1   \n1         False          False                         1   \n2         False          False                         0   \n3         False          False                         0   \n4          True          False                         0   \n\n   nameDestFirstLetter=M  \n0                   True  \n1                   True  \n2                  False  \n3                  False  \n4                  False  ",
      "text/html": "<div>\n<style scoped>\n    .dataframe tbody tr th:only-of-type {\n        vertical-align: middle;\n    }\n\n    .dataframe tbody tr th {\n        vertical-align: top;\n    }\n\n    .dataframe thead th {\n        text-align: right;\n    }\n</style>\n<table border=\"1\" class=\"dataframe\">\n  <thead>\n    <tr style=\"text-align: right;\">\n      <th></th>\n      <th>Unnamed: 0</th>\n      <th>step</th>\n      <th>amount</th>\n      <th>oldbalanceOrg</th>\n      <th>newbalanceOrig</th>\n      <th>oldbalanceDest</th>\n      <th>newbalanceDest</th>\n      <th>isFraud</th>\n      <th>isFlaggedFraud</th>\n      <th>has_debt</th>\n      <th>debt</th>\n      <th>origins_count</th>\n      <th>min_amount</th>\n      <th>max_amount</th>\n      <th>std_amount</th>\n      <th>median_amount</th>\n      <th>mean_amount</th>\n      <th>min_oldbalanceOrg</th>\n      <th>max_oldbalanceOrg</th>\n      <th>std_oldbalanceOrg</th>\n      <th>median_oldbalanceOrg</th>\n      <th>mean_oldbalanceOrg</th>\n      <th>min_newbalanceOrig</th>\n      <th>max_newbalanceOrig</th>\n      <th>std_newbalanceOrig</th>\n      <th>median_newbalanceOrig</th>\n      <th>mean_newbalanceOrig</th>\n      <th>min_oldbalanceDest</th>\n      <th>max_oldbalanceDest</th>\n      <th>std_oldbalanceDest</th>\n      <th>median_oldbalanceDest</th>\n      <th>mean_oldbalanceDest</th>\n      <th>min_newbalanceDest</th>\n      <th>max_newbalanceDest</th>\n      <th>std_newbalanceDest</th>\n      <th>median_newbalanceDest</th>\n      <th>mean_newbalanceDest</th>\n      <th>min_step</th>\n      <th>max_step</th>\n      <th>std_step</th>\n      <th>median_step</th>\n      <th>mean_step</th>\n      <th>min_has_debt</th>\n      <th>max_has_debt</th>\n      <th>std_has_debt</th>\n      <th>median_has_debt</th>\n      <th>mean_has_debt</th>\n      <th>nameDestFirstLetter</th>\n      <th>amount_has_cents</th>\n      <th>amount_has_units</th>\n      <th>amount_has_tens</th>\n      <th>amount_has_hundreds</th>\n      <th>amount_is_equal_to_balance</th>\n      <th>type_code</th>\n      <th>type=PAYMENT</th>\n      <th>type=TRANSFER</th>\n      <th>type=CASH_IN</th>\n      <th>type=CASH_OUT</th>\n      <th>nameDestFirstLetter_code</th>\n      <th>nameDestFirstLetter=M</th>\n    </tr>\n  </thead>\n  <tbody>\n    <tr>\n      <th>0</th>\n      <td>0</td>\n      <td>1</td>\n      <td>9839.64</td>\n      <td>170136.00</td>\n      <td>160296.36</td>\n      <td>0.00</td>\n      <td>0.00</td>\n      <td>0</td>\n      <td>0</td>\n      <td>False</td>\n      <td>-0.00</td>\n      <td>1</td>\n      <td>9839.64</td>\n      <td>9839.64</td>\n      <td>0.000000</td>\n      <td>9839.640</td>\n      <td>9839.640000</td>\n      <td>170136.0</td>\n      <td>170136.00</td>\n      <td>0.000000e+00</td>\n      <td>170136.0</td>\n      <td>1.701360e+05</td>\n      <td>160296.36</td>\n      <td>160296.36</td>\n      <td>0.000000e+00</td>\n      <td>160296.36</td>\n      <td>1.602964e+05</td>\n      <td>0.0</td>\n      <td>0.00</td>\n      <td>0.000000e+00</td>\n      <td>0.00</td>\n      <td>0.000000e+00</td>\n      <td>0.0</td>\n      <td>0.00</td>\n      <td>0.000000e+00</td>\n      <td>0.00</td>\n      <td>0.000000e+00</td>\n      <td>1</td>\n      <td>1</td>\n      <td>0.000000</td>\n      <td>1.0</td>\n      <td>1.000000</td>\n      <td>False</td>\n      <td>False</td>\n      <td>0.000000</td>\n      <td>0.0</td>\n      <td>0.000000</td>\n      <td>M</td>\n      <td>True</td>\n      <td>True</td>\n      <td>True</td>\n      <td>True</td>\n      <td>False</td>\n      <td>3</td>\n      <td>True</td>\n      <td>False</td>\n      <td>False</td>\n      <td>False</td>\n      <td>1</td>\n      <td>True</td>\n    </tr>\n    <tr>\n      <th>1</th>\n      <td>1</td>\n      <td>1</td>\n      <td>1864.28</td>\n      <td>21249.00</td>\n      <td>19384.72</td>\n      <td>0.00</td>\n      <td>0.00</td>\n      <td>0</td>\n      <td>0</td>\n      <td>False</td>\n      <td>-0.00</td>\n      <td>1</td>\n      <td>1864.28</td>\n      <td>1864.28</td>\n      <td>0.000000</td>\n      <td>1864.280</td>\n      <td>1864.280000</td>\n      <td>21249.0</td>\n      <td>21249.00</td>\n      <td>0.000000e+00</td>\n      <td>21249.0</td>\n      <td>2.124900e+04</td>\n      <td>19384.72</td>\n      <td>19384.72</td>\n      <td>0.000000e+00</td>\n      <td>19384.72</td>\n      <td>1.938472e+04</td>\n      <td>0.0</td>\n      <td>0.00</td>\n      <td>0.000000e+00</td>\n      <td>0.00</td>\n      <td>0.000000e+00</td>\n      <td>0.0</td>\n      <td>0.00</td>\n      <td>0.000000e+00</td>\n      <td>0.00</td>\n      <td>0.000000e+00</td>\n      <td>1</td>\n      <td>1</td>\n      <td>0.000000</td>\n      <td>1.0</td>\n      <td>1.000000</td>\n      <td>False</td>\n      <td>False</td>\n      <td>0.000000</td>\n      <td>0.0</td>\n      <td>0.000000</td>\n      <td>M</td>\n      <td>True</td>\n      <td>True</td>\n      <td>True</td>\n      <td>True</td>\n      <td>False</td>\n      <td>3</td>\n      <td>True</td>\n      <td>False</td>\n      <td>False</td>\n      <td>False</td>\n      <td>1</td>\n      <td>True</td>\n    </tr>\n    <tr>\n      <th>2</th>\n      <td>2</td>\n      <td>1</td>\n      <td>181.00</td>\n      <td>181.00</td>\n      <td>0.00</td>\n      <td>0.00</td>\n      <td>0.00</td>\n      <td>1</td>\n      <td>0</td>\n      <td>False</td>\n      <td>0.00</td>\n      <td>44</td>\n      <td>181.00</td>\n      <td>1447322.21</td>\n      <td>252655.757617</td>\n      <td>139366.105</td>\n      <td>225517.832045</td>\n      <td>0.0</td>\n      <td>21782433.66</td>\n      <td>5.109399e+06</td>\n      <td>10170.5</td>\n      <td>1.915190e+06</td>\n      <td>0.00</td>\n      <td>22012047.86</td>\n      <td>5.160588e+06</td>\n      <td>0.00</td>\n      <td>1.971241e+06</td>\n      <td>0.0</td>\n      <td>4115621.95</td>\n      <td>1.311491e+06</td>\n      <td>2820318.13</td>\n      <td>2.455461e+06</td>\n      <td>0.0</td>\n      <td>4115621.95</td>\n      <td>1.279824e+06</td>\n      <td>2820318.13</td>\n      <td>2.534052e+06</td>\n      <td>1</td>\n      <td>400</td>\n      <td>130.627992</td>\n      <td>41.5</td>\n      <td>118.954545</td>\n      <td>False</td>\n      <td>True</td>\n      <td>0.461522</td>\n      <td>1.0</td>\n      <td>0.704545</td>\n      <td>C</td>\n      <td>False</td>\n      <td>True</td>\n      <td>True</td>\n      <td>True</td>\n      <td>True</td>\n      <td>4</td>\n      <td>False</td>\n      <td>True</td>\n      <td>False</td>\n      <td>False</td>\n      <td>0</td>\n      <td>False</td>\n    </tr>\n    <tr>\n      <th>3</th>\n      <td>3</td>\n      <td>6</td>\n      <td>109985.65</td>\n      <td>41851.00</td>\n      <td>0.00</td>\n      <td>0.00</td>\n      <td>109985.65</td>\n      <td>0</td>\n      <td>0</td>\n      <td>True</td>\n      <td>68134.65</td>\n      <td>44</td>\n      <td>181.00</td>\n      <td>1447322.21</td>\n      <td>252655.757617</td>\n      <td>139366.105</td>\n      <td>225517.832045</td>\n      <td>0.0</td>\n      <td>21782433.66</td>\n      <td>5.109399e+06</td>\n      <td>10170.5</td>\n      <td>1.915190e+06</td>\n      <td>0.00</td>\n      <td>22012047.86</td>\n      <td>5.160588e+06</td>\n      <td>0.00</td>\n      <td>1.971241e+06</td>\n      <td>0.0</td>\n      <td>4115621.95</td>\n      <td>1.311491e+06</td>\n      <td>2820318.13</td>\n      <td>2.455461e+06</td>\n      <td>0.0</td>\n      <td>4115621.95</td>\n      <td>1.279824e+06</td>\n      <td>2820318.13</td>\n      <td>2.534052e+06</td>\n      <td>1</td>\n      <td>400</td>\n      <td>130.627992</td>\n      <td>41.5</td>\n      <td>118.954545</td>\n      <td>False</td>\n      <td>True</td>\n      <td>0.461522</td>\n      <td>1.0</td>\n      <td>0.704545</td>\n      <td>C</td>\n      <td>True</td>\n      <td>True</td>\n      <td>True</td>\n      <td>True</td>\n      <td>False</td>\n      <td>4</td>\n      <td>False</td>\n      <td>True</td>\n      <td>False</td>\n      <td>False</td>\n      <td>0</td>\n      <td>False</td>\n    </tr>\n    <tr>\n      <th>4</th>\n      <td>4</td>\n      <td>7</td>\n      <td>10256.20</td>\n      <td>3766080.24</td>\n      <td>3776336.45</td>\n      <td>109985.65</td>\n      <td>99729.44</td>\n      <td>0</td>\n      <td>0</td>\n      <td>False</td>\n      <td>-0.00</td>\n      <td>44</td>\n      <td>181.00</td>\n      <td>1447322.21</td>\n      <td>252655.757617</td>\n      <td>139366.105</td>\n      <td>225517.832045</td>\n      <td>0.0</td>\n      <td>21782433.66</td>\n      <td>5.109399e+06</td>\n      <td>10170.5</td>\n      <td>1.915190e+06</td>\n      <td>0.00</td>\n      <td>22012047.86</td>\n      <td>5.160588e+06</td>\n      <td>0.00</td>\n      <td>1.971241e+06</td>\n      <td>0.0</td>\n      <td>4115621.95</td>\n      <td>1.311491e+06</td>\n      <td>2820318.13</td>\n      <td>2.455461e+06</td>\n      <td>0.0</td>\n      <td>4115621.95</td>\n      <td>1.279824e+06</td>\n      <td>2820318.13</td>\n      <td>2.534052e+06</td>\n      <td>1</td>\n      <td>400</td>\n      <td>130.627992</td>\n      <td>41.5</td>\n      <td>118.954545</td>\n      <td>False</td>\n      <td>True</td>\n      <td>0.461522</td>\n      <td>1.0</td>\n      <td>0.704545</td>\n      <td>C</td>\n      <td>True</td>\n      <td>True</td>\n      <td>True</td>\n      <td>True</td>\n      <td>False</td>\n      <td>0</td>\n      <td>False</td>\n      <td>False</td>\n      <td>True</td>\n      <td>False</td>\n      <td>0</td>\n      <td>False</td>\n    </tr>\n  </tbody>\n</table>\n</div>"
     },
     "execution_count": 5,
     "metadata": {},
     "output_type": "execute_result"
    }
   ],
   "source": [
    "transactions = pd.read_csv('onlinefraud_with_features.csv')\n",
    "transactions.head()"
   ],
   "metadata": {
    "collapsed": false
   }
  },
  {
   "cell_type": "code",
   "execution_count": 6,
   "outputs": [],
   "source": [
    "transactions.drop(columns=['Unnamed: 0', 'isFlaggedFraud'], inplace=True)"
   ],
   "metadata": {
    "collapsed": false
   }
  },
  {
   "cell_type": "markdown",
   "source": [
    "## Split data into train, test and validation sets"
   ],
   "metadata": {
    "collapsed": false
   }
  },
  {
   "cell_type": "code",
   "execution_count": 11,
   "outputs": [],
   "source": [
    "train_size = 0.5\n",
    "test_size = 0.2\n",
    "validation_size = 0.3\n",
    "assert train_size + test_size + validation_size == 1\n",
    "\n",
    "target_column = 'isFraud'\n",
    "X = transactions.drop(columns=target_column)\n",
    "y = transactions[target_column]\n",
    "\n",
    "random_state = 42\n",
    "\n",
    "datasets = {}"
   ],
   "metadata": {
    "collapsed": false
   }
  },
  {
   "cell_type": "markdown",
   "source": [
    "### Common split"
   ],
   "metadata": {
    "collapsed": false
   }
  },
  {
   "cell_type": "markdown",
   "source": [
    "In this case we just split data with respect to labels to keep the same positive and negative classes balance in sets."
   ],
   "metadata": {
    "collapsed": false
   }
  },
  {
   "cell_type": "code",
   "execution_count": 12,
   "outputs": [],
   "source": [
    "X_train, X_remaining, y_train, y_remaining = train_test_split(\n",
    "    X,\n",
    "    y,\n",
    "    train_size=train_size,\n",
    "    random_state=random_state,\n",
    "    stratify=y\n",
    ")\n",
    "\n",
    "X_validation, X_test, y_validation, y_test = train_test_split(\n",
    "    X_remaining,\n",
    "    y_remaining,\n",
    "    test_size=test_size / (test_size + validation_size),\n",
    "    stratify=y_remaining\n",
    ")\n",
    "\n",
    "datasets['common'] = {\n",
    "    'X': {\n",
    "        'train': X_train,\n",
    "        'test': X_test,\n",
    "        'validation': X_validation\n",
    "    },\n",
    "    'y': {\n",
    "        'train': y_train,\n",
    "        'test': y_test,\n",
    "        'validation': y_validation\n",
    "    }\n",
    "}"
   ],
   "metadata": {
    "collapsed": false
   }
  },
  {
   "cell_type": "markdown",
   "source": [
    "### Group split"
   ],
   "metadata": {
    "collapsed": false
   }
  },
  {
   "cell_type": "markdown",
   "source": [
    "We use this split to keep all data with the same destination name in one set, to prevent data leak."
   ],
   "metadata": {
    "collapsed": false
   }
  },
  {
   "cell_type": "code",
   "execution_count": 14,
   "outputs": [
    {
     "ename": "SyntaxError",
     "evalue": "invalid syntax (2934566653.py, line 1)",
     "output_type": "error",
     "traceback": [
      "\u001B[0;36m  Cell \u001B[0;32mIn[14], line 1\u001B[0;36m\u001B[0m\n\u001B[0;31m    X_train, X_remaining, y_train, y_remaining =\u001B[0m\n\u001B[0m                                                 ^\u001B[0m\n\u001B[0;31mSyntaxError\u001B[0m\u001B[0;31m:\u001B[0m invalid syntax\n"
     ]
    }
   ],
   "source": [
    "gss = GroupShuffleSplit(\n",
    "    train_size=train_size,\n",
    ")\n",
    "X_train, X_remaining, y_train, y_remaining ="
   ],
   "metadata": {
    "collapsed": false
   }
  }
 ],
 "metadata": {
  "kernelspec": {
   "display_name": "Python 3",
   "language": "python",
   "name": "python3"
  },
  "language_info": {
   "codemirror_mode": {
    "name": "ipython",
    "version": 2
   },
   "file_extension": ".py",
   "mimetype": "text/x-python",
   "name": "python",
   "nbconvert_exporter": "python",
   "pygments_lexer": "ipython2",
   "version": "2.7.6"
  }
 },
 "nbformat": 4,
 "nbformat_minor": 0
}
