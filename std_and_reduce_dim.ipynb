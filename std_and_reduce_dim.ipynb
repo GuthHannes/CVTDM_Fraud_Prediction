{
 "cells": [
  {
   "cell_type": "markdown",
   "source": [
    "# Standardization"
   ],
   "metadata": {
    "collapsed": false
   }
  },
  {
   "cell_type": "code",
   "execution_count": 3,
   "outputs": [],
   "source": [
    "import pandas as pd\n",
    "from matplotlib import pyplot as plt\n",
    "from sklearn.model_selection import train_test_split\n",
    "\n",
    "plt.rcParams[\"figure.figsize\"] = (20, 9)\n",
    "pd.set_option('display.max_columns', 500)"
   ],
   "metadata": {
    "collapsed": false
   }
  },
  {
   "cell_type": "code",
   "execution_count": 1,
   "outputs": [
    {
     "data": {
      "text/plain": "0.00068"
     },
     "execution_count": 1,
     "metadata": {},
     "output_type": "execute_result"
    }
   ],
   "source": [
    "17 / 25000"
   ],
   "metadata": {
    "collapsed": false
   }
  },
  {
   "cell_type": "code",
   "execution_count": 2,
   "outputs": [
    {
     "data": {
      "text/plain": "   step     amount  oldbalanceOrg  newbalanceOrig     nameDest  \\\n0     1    9839.64      170136.00       160296.36  M1979787155   \n1     1    1864.28       21249.00        19384.72  M2044282225   \n2     1     181.00         181.00            0.00   C553264065   \n3     6  109985.65       41851.00            0.00   C553264065   \n4     7   10256.20     3766080.24      3776336.45   C553264065   \n\n   oldbalanceDest  newbalanceDest  isFraud  has_debt      debt  origins_count  \\\n0            0.00            0.00        0     False     -0.00              1   \n1            0.00            0.00        0     False     -0.00              1   \n2            0.00            0.00        1     False      0.00             44   \n3            0.00       109985.65        0      True  68134.65             44   \n4       109985.65        99729.44        0     False     -0.00             44   \n\n   min_amount  max_amount     std_amount  median_amount    mean_amount  \\\n0     9839.64     9839.64       0.000000       9839.640    9839.640000   \n1     1864.28     1864.28       0.000000       1864.280    1864.280000   \n2      181.00  1447322.21  252655.757617     139366.105  225517.832045   \n3      181.00  1447322.21  252655.757617     139366.105  225517.832045   \n4      181.00  1447322.21  252655.757617     139366.105  225517.832045   \n\n   min_oldbalanceOrg  max_oldbalanceOrg  std_oldbalanceOrg  \\\n0           170136.0          170136.00       0.000000e+00   \n1            21249.0           21249.00       0.000000e+00   \n2                0.0        21782433.66       5.109399e+06   \n3                0.0        21782433.66       5.109399e+06   \n4                0.0        21782433.66       5.109399e+06   \n\n   median_oldbalanceOrg  mean_oldbalanceOrg  min_newbalanceOrig  \\\n0              170136.0        1.701360e+05           160296.36   \n1               21249.0        2.124900e+04            19384.72   \n2               10170.5        1.915190e+06                0.00   \n3               10170.5        1.915190e+06                0.00   \n4               10170.5        1.915190e+06                0.00   \n\n   max_newbalanceOrig  std_newbalanceOrig  median_newbalanceOrig  \\\n0           160296.36        0.000000e+00              160296.36   \n1            19384.72        0.000000e+00               19384.72   \n2         22012047.86        5.160588e+06                   0.00   \n3         22012047.86        5.160588e+06                   0.00   \n4         22012047.86        5.160588e+06                   0.00   \n\n   mean_newbalanceOrig  min_oldbalanceDest  max_oldbalanceDest  \\\n0         1.602964e+05                 0.0                0.00   \n1         1.938472e+04                 0.0                0.00   \n2         1.971241e+06                 0.0          4115621.95   \n3         1.971241e+06                 0.0          4115621.95   \n4         1.971241e+06                 0.0          4115621.95   \n\n   std_oldbalanceDest  median_oldbalanceDest  mean_oldbalanceDest  \\\n0        0.000000e+00                   0.00         0.000000e+00   \n1        0.000000e+00                   0.00         0.000000e+00   \n2        1.311491e+06             2820318.13         2.455461e+06   \n3        1.311491e+06             2820318.13         2.455461e+06   \n4        1.311491e+06             2820318.13         2.455461e+06   \n\n   min_newbalanceDest  max_newbalanceDest  std_newbalanceDest  \\\n0                 0.0                0.00        0.000000e+00   \n1                 0.0                0.00        0.000000e+00   \n2                 0.0          4115621.95        1.279824e+06   \n3                 0.0          4115621.95        1.279824e+06   \n4                 0.0          4115621.95        1.279824e+06   \n\n   median_newbalanceDest  mean_newbalanceDest  min_step  max_step    std_step  \\\n0                   0.00         0.000000e+00         1         1    0.000000   \n1                   0.00         0.000000e+00         1         1    0.000000   \n2             2820318.13         2.534052e+06         1       400  130.627992   \n3             2820318.13         2.534052e+06         1       400  130.627992   \n4             2820318.13         2.534052e+06         1       400  130.627992   \n\n   median_step   mean_step  min_has_debt  max_has_debt  std_has_debt  \\\n0          1.0    1.000000         False         False      0.000000   \n1          1.0    1.000000         False         False      0.000000   \n2         41.5  118.954545         False          True      0.461522   \n3         41.5  118.954545         False          True      0.461522   \n4         41.5  118.954545         False          True      0.461522   \n\n   median_has_debt  mean_has_debt nameDestFirstLetter  amount_has_cents  \\\n0              0.0       0.000000                   M              True   \n1              0.0       0.000000                   M              True   \n2              1.0       0.704545                   C             False   \n3              1.0       0.704545                   C              True   \n4              1.0       0.704545                   C              True   \n\n   amount_has_units  amount_has_tens  amount_has_hundreds  \\\n0              True             True                 True   \n1              True             True                 True   \n2              True             True                 True   \n3              True             True                 True   \n4              True             True                 True   \n\n   amount_is_equal_to_balance  type_code  type=PAYMENT  type=TRANSFER  \\\n0                       False          3          True          False   \n1                       False          3          True          False   \n2                        True          4         False           True   \n3                       False          4         False           True   \n4                       False          0         False          False   \n\n   type=CASH_IN  type=CASH_OUT  nameDestFirstLetter_code  \\\n0         False          False                         1   \n1         False          False                         1   \n2         False          False                         0   \n3         False          False                         0   \n4          True          False                         0   \n\n   nameDestFirstLetter=M  \n0                   True  \n1                   True  \n2                  False  \n3                  False  \n4                  False  ",
      "text/html": "<div>\n<style scoped>\n    .dataframe tbody tr th:only-of-type {\n        vertical-align: middle;\n    }\n\n    .dataframe tbody tr th {\n        vertical-align: top;\n    }\n\n    .dataframe thead th {\n        text-align: right;\n    }\n</style>\n<table border=\"1\" class=\"dataframe\">\n  <thead>\n    <tr style=\"text-align: right;\">\n      <th></th>\n      <th>step</th>\n      <th>amount</th>\n      <th>oldbalanceOrg</th>\n      <th>newbalanceOrig</th>\n      <th>nameDest</th>\n      <th>oldbalanceDest</th>\n      <th>newbalanceDest</th>\n      <th>isFraud</th>\n      <th>has_debt</th>\n      <th>debt</th>\n      <th>origins_count</th>\n      <th>min_amount</th>\n      <th>max_amount</th>\n      <th>std_amount</th>\n      <th>median_amount</th>\n      <th>mean_amount</th>\n      <th>min_oldbalanceOrg</th>\n      <th>max_oldbalanceOrg</th>\n      <th>std_oldbalanceOrg</th>\n      <th>median_oldbalanceOrg</th>\n      <th>mean_oldbalanceOrg</th>\n      <th>min_newbalanceOrig</th>\n      <th>max_newbalanceOrig</th>\n      <th>std_newbalanceOrig</th>\n      <th>median_newbalanceOrig</th>\n      <th>mean_newbalanceOrig</th>\n      <th>min_oldbalanceDest</th>\n      <th>max_oldbalanceDest</th>\n      <th>std_oldbalanceDest</th>\n      <th>median_oldbalanceDest</th>\n      <th>mean_oldbalanceDest</th>\n      <th>min_newbalanceDest</th>\n      <th>max_newbalanceDest</th>\n      <th>std_newbalanceDest</th>\n      <th>median_newbalanceDest</th>\n      <th>mean_newbalanceDest</th>\n      <th>min_step</th>\n      <th>max_step</th>\n      <th>std_step</th>\n      <th>median_step</th>\n      <th>mean_step</th>\n      <th>min_has_debt</th>\n      <th>max_has_debt</th>\n      <th>std_has_debt</th>\n      <th>median_has_debt</th>\n      <th>mean_has_debt</th>\n      <th>nameDestFirstLetter</th>\n      <th>amount_has_cents</th>\n      <th>amount_has_units</th>\n      <th>amount_has_tens</th>\n      <th>amount_has_hundreds</th>\n      <th>amount_is_equal_to_balance</th>\n      <th>type_code</th>\n      <th>type=PAYMENT</th>\n      <th>type=TRANSFER</th>\n      <th>type=CASH_IN</th>\n      <th>type=CASH_OUT</th>\n      <th>nameDestFirstLetter_code</th>\n      <th>nameDestFirstLetter=M</th>\n    </tr>\n  </thead>\n  <tbody>\n    <tr>\n      <th>0</th>\n      <td>1</td>\n      <td>9839.64</td>\n      <td>170136.00</td>\n      <td>160296.36</td>\n      <td>M1979787155</td>\n      <td>0.00</td>\n      <td>0.00</td>\n      <td>0</td>\n      <td>False</td>\n      <td>-0.00</td>\n      <td>1</td>\n      <td>9839.64</td>\n      <td>9839.64</td>\n      <td>0.000000</td>\n      <td>9839.640</td>\n      <td>9839.640000</td>\n      <td>170136.0</td>\n      <td>170136.00</td>\n      <td>0.000000e+00</td>\n      <td>170136.0</td>\n      <td>1.701360e+05</td>\n      <td>160296.36</td>\n      <td>160296.36</td>\n      <td>0.000000e+00</td>\n      <td>160296.36</td>\n      <td>1.602964e+05</td>\n      <td>0.0</td>\n      <td>0.00</td>\n      <td>0.000000e+00</td>\n      <td>0.00</td>\n      <td>0.000000e+00</td>\n      <td>0.0</td>\n      <td>0.00</td>\n      <td>0.000000e+00</td>\n      <td>0.00</td>\n      <td>0.000000e+00</td>\n      <td>1</td>\n      <td>1</td>\n      <td>0.000000</td>\n      <td>1.0</td>\n      <td>1.000000</td>\n      <td>False</td>\n      <td>False</td>\n      <td>0.000000</td>\n      <td>0.0</td>\n      <td>0.000000</td>\n      <td>M</td>\n      <td>True</td>\n      <td>True</td>\n      <td>True</td>\n      <td>True</td>\n      <td>False</td>\n      <td>3</td>\n      <td>True</td>\n      <td>False</td>\n      <td>False</td>\n      <td>False</td>\n      <td>1</td>\n      <td>True</td>\n    </tr>\n    <tr>\n      <th>1</th>\n      <td>1</td>\n      <td>1864.28</td>\n      <td>21249.00</td>\n      <td>19384.72</td>\n      <td>M2044282225</td>\n      <td>0.00</td>\n      <td>0.00</td>\n      <td>0</td>\n      <td>False</td>\n      <td>-0.00</td>\n      <td>1</td>\n      <td>1864.28</td>\n      <td>1864.28</td>\n      <td>0.000000</td>\n      <td>1864.280</td>\n      <td>1864.280000</td>\n      <td>21249.0</td>\n      <td>21249.00</td>\n      <td>0.000000e+00</td>\n      <td>21249.0</td>\n      <td>2.124900e+04</td>\n      <td>19384.72</td>\n      <td>19384.72</td>\n      <td>0.000000e+00</td>\n      <td>19384.72</td>\n      <td>1.938472e+04</td>\n      <td>0.0</td>\n      <td>0.00</td>\n      <td>0.000000e+00</td>\n      <td>0.00</td>\n      <td>0.000000e+00</td>\n      <td>0.0</td>\n      <td>0.00</td>\n      <td>0.000000e+00</td>\n      <td>0.00</td>\n      <td>0.000000e+00</td>\n      <td>1</td>\n      <td>1</td>\n      <td>0.000000</td>\n      <td>1.0</td>\n      <td>1.000000</td>\n      <td>False</td>\n      <td>False</td>\n      <td>0.000000</td>\n      <td>0.0</td>\n      <td>0.000000</td>\n      <td>M</td>\n      <td>True</td>\n      <td>True</td>\n      <td>True</td>\n      <td>True</td>\n      <td>False</td>\n      <td>3</td>\n      <td>True</td>\n      <td>False</td>\n      <td>False</td>\n      <td>False</td>\n      <td>1</td>\n      <td>True</td>\n    </tr>\n    <tr>\n      <th>2</th>\n      <td>1</td>\n      <td>181.00</td>\n      <td>181.00</td>\n      <td>0.00</td>\n      <td>C553264065</td>\n      <td>0.00</td>\n      <td>0.00</td>\n      <td>1</td>\n      <td>False</td>\n      <td>0.00</td>\n      <td>44</td>\n      <td>181.00</td>\n      <td>1447322.21</td>\n      <td>252655.757617</td>\n      <td>139366.105</td>\n      <td>225517.832045</td>\n      <td>0.0</td>\n      <td>21782433.66</td>\n      <td>5.109399e+06</td>\n      <td>10170.5</td>\n      <td>1.915190e+06</td>\n      <td>0.00</td>\n      <td>22012047.86</td>\n      <td>5.160588e+06</td>\n      <td>0.00</td>\n      <td>1.971241e+06</td>\n      <td>0.0</td>\n      <td>4115621.95</td>\n      <td>1.311491e+06</td>\n      <td>2820318.13</td>\n      <td>2.455461e+06</td>\n      <td>0.0</td>\n      <td>4115621.95</td>\n      <td>1.279824e+06</td>\n      <td>2820318.13</td>\n      <td>2.534052e+06</td>\n      <td>1</td>\n      <td>400</td>\n      <td>130.627992</td>\n      <td>41.5</td>\n      <td>118.954545</td>\n      <td>False</td>\n      <td>True</td>\n      <td>0.461522</td>\n      <td>1.0</td>\n      <td>0.704545</td>\n      <td>C</td>\n      <td>False</td>\n      <td>True</td>\n      <td>True</td>\n      <td>True</td>\n      <td>True</td>\n      <td>4</td>\n      <td>False</td>\n      <td>True</td>\n      <td>False</td>\n      <td>False</td>\n      <td>0</td>\n      <td>False</td>\n    </tr>\n    <tr>\n      <th>3</th>\n      <td>6</td>\n      <td>109985.65</td>\n      <td>41851.00</td>\n      <td>0.00</td>\n      <td>C553264065</td>\n      <td>0.00</td>\n      <td>109985.65</td>\n      <td>0</td>\n      <td>True</td>\n      <td>68134.65</td>\n      <td>44</td>\n      <td>181.00</td>\n      <td>1447322.21</td>\n      <td>252655.757617</td>\n      <td>139366.105</td>\n      <td>225517.832045</td>\n      <td>0.0</td>\n      <td>21782433.66</td>\n      <td>5.109399e+06</td>\n      <td>10170.5</td>\n      <td>1.915190e+06</td>\n      <td>0.00</td>\n      <td>22012047.86</td>\n      <td>5.160588e+06</td>\n      <td>0.00</td>\n      <td>1.971241e+06</td>\n      <td>0.0</td>\n      <td>4115621.95</td>\n      <td>1.311491e+06</td>\n      <td>2820318.13</td>\n      <td>2.455461e+06</td>\n      <td>0.0</td>\n      <td>4115621.95</td>\n      <td>1.279824e+06</td>\n      <td>2820318.13</td>\n      <td>2.534052e+06</td>\n      <td>1</td>\n      <td>400</td>\n      <td>130.627992</td>\n      <td>41.5</td>\n      <td>118.954545</td>\n      <td>False</td>\n      <td>True</td>\n      <td>0.461522</td>\n      <td>1.0</td>\n      <td>0.704545</td>\n      <td>C</td>\n      <td>True</td>\n      <td>True</td>\n      <td>True</td>\n      <td>True</td>\n      <td>False</td>\n      <td>4</td>\n      <td>False</td>\n      <td>True</td>\n      <td>False</td>\n      <td>False</td>\n      <td>0</td>\n      <td>False</td>\n    </tr>\n    <tr>\n      <th>4</th>\n      <td>7</td>\n      <td>10256.20</td>\n      <td>3766080.24</td>\n      <td>3776336.45</td>\n      <td>C553264065</td>\n      <td>109985.65</td>\n      <td>99729.44</td>\n      <td>0</td>\n      <td>False</td>\n      <td>-0.00</td>\n      <td>44</td>\n      <td>181.00</td>\n      <td>1447322.21</td>\n      <td>252655.757617</td>\n      <td>139366.105</td>\n      <td>225517.832045</td>\n      <td>0.0</td>\n      <td>21782433.66</td>\n      <td>5.109399e+06</td>\n      <td>10170.5</td>\n      <td>1.915190e+06</td>\n      <td>0.00</td>\n      <td>22012047.86</td>\n      <td>5.160588e+06</td>\n      <td>0.00</td>\n      <td>1.971241e+06</td>\n      <td>0.0</td>\n      <td>4115621.95</td>\n      <td>1.311491e+06</td>\n      <td>2820318.13</td>\n      <td>2.455461e+06</td>\n      <td>0.0</td>\n      <td>4115621.95</td>\n      <td>1.279824e+06</td>\n      <td>2820318.13</td>\n      <td>2.534052e+06</td>\n      <td>1</td>\n      <td>400</td>\n      <td>130.627992</td>\n      <td>41.5</td>\n      <td>118.954545</td>\n      <td>False</td>\n      <td>True</td>\n      <td>0.461522</td>\n      <td>1.0</td>\n      <td>0.704545</td>\n      <td>C</td>\n      <td>True</td>\n      <td>True</td>\n      <td>True</td>\n      <td>True</td>\n      <td>False</td>\n      <td>0</td>\n      <td>False</td>\n      <td>False</td>\n      <td>True</td>\n      <td>False</td>\n      <td>0</td>\n      <td>False</td>\n    </tr>\n  </tbody>\n</table>\n</div>"
     },
     "execution_count": 2,
     "metadata": {},
     "output_type": "execute_result"
    }
   ],
   "source": [
    "transactions = pd.read_csv('onlinefraud_with_features.csv')\n",
    "transactions.head()"
   ],
   "metadata": {
    "collapsed": false
   }
  },
  {
   "cell_type": "code",
   "execution_count": 3,
   "outputs": [],
   "source": [
    "transactions['nameDestFirstLetterIsM'] = transactions['nameDestFirstLetter'] == 'M'\n",
    "transactions.drop(columns=['nameDestFirstLetter'], inplace=True)"
   ],
   "metadata": {
    "collapsed": false
   }
  },
  {
   "cell_type": "markdown",
   "source": [
    "## Split data into train, test and validation sets"
   ],
   "metadata": {
    "collapsed": false
   }
  },
  {
   "cell_type": "code",
   "execution_count": 4,
   "outputs": [],
   "source": [
    "train_size = 0.5\n",
    "test_size = 0.2\n",
    "validation_size = 0.3\n",
    "assert train_size + test_size + validation_size == 1\n",
    "\n",
    "target_column = 'isFraud'\n",
    "X = transactions.drop(columns=target_column)\n",
    "y = transactions[target_column]\n",
    "\n",
    "random_state = 42\n",
    "\n",
    "datasets = {}"
   ],
   "metadata": {
    "collapsed": false
   }
  },
  {
   "cell_type": "markdown",
   "source": [
    "### Common split"
   ],
   "metadata": {
    "collapsed": false
   }
  },
  {
   "cell_type": "markdown",
   "source": [
    "In this case we just split data with respect to labels to keep the same positive and negative classes balance in sets."
   ],
   "metadata": {
    "collapsed": false
   }
  },
  {
   "cell_type": "code",
   "execution_count": 5,
   "outputs": [],
   "source": [
    "def add_common_splitted_data(X, y, key='common'):\n",
    "    X_train, X_remaining, y_train, y_remaining = train_test_split(\n",
    "        X,\n",
    "        y,\n",
    "        train_size=train_size,\n",
    "        random_state=random_state,\n",
    "        stratify=y\n",
    "    )\n",
    "\n",
    "    X_validation, X_test, y_validation, y_test = train_test_split(\n",
    "        X_remaining,\n",
    "        y_remaining,\n",
    "        test_size=test_size / (test_size + validation_size),\n",
    "        stratify=y_remaining\n",
    "    )\n",
    "\n",
    "    datasets[key] = {\n",
    "        'X': {\n",
    "            'train': X_train,\n",
    "            'test': X_test,\n",
    "            'validation': X_validation\n",
    "        },\n",
    "        'y': {\n",
    "            'train': y_train,\n",
    "            'test': y_test,\n",
    "            'validation': y_validation\n",
    "        }\n",
    "    }\n",
    "\n",
    "\n",
    "add_common_splitted_data(X, y)"
   ],
   "metadata": {
    "collapsed": false
   }
  },
  {
   "cell_type": "markdown",
   "source": [
    "### Group split"
   ],
   "metadata": {
    "collapsed": false
   }
  },
  {
   "cell_type": "markdown",
   "source": [
    "We use this split to keep all data with the same destination name in one set, to prevent data leak."
   ],
   "metadata": {
    "collapsed": false
   }
  },
  {
   "cell_type": "code",
   "execution_count": 6,
   "outputs": [
    {
     "data": {
      "text/plain": "0.00129"
     },
     "execution_count": 6,
     "metadata": {},
     "output_type": "execute_result"
    }
   ],
   "source": [
    "round(y.mean(), 5)"
   ],
   "metadata": {
    "collapsed": false
   }
  },
  {
   "cell_type": "code",
   "execution_count": 7,
   "outputs": [
    {
     "data": {
      "text/plain": "0.00126"
     },
     "execution_count": 7,
     "metadata": {},
     "output_type": "execute_result"
    }
   ],
   "source": [
    "round(transactions.groupby('nameDest')[target_column].mean().apply(lambda value: int(value * 2) - int(value)).mean(), 5)"
   ],
   "metadata": {
    "collapsed": false
   }
  },
  {
   "cell_type": "markdown",
   "source": [
    "As we can see, if we group data by nameDest and define class label as label of the major part of the group, we will receive the same balance of classes."
   ],
   "metadata": {
    "collapsed": false
   }
  },
  {
   "cell_type": "code",
   "execution_count": 8,
   "outputs": [],
   "source": [
    "def train_test_split_group(*arrays, **kwargs):\n",
    "    group_name = kwargs.get('group_name')\n",
    "    if group_name is None:\n",
    "        return train_test_split_group(*arrays, **kwargs)\n",
    "    else:\n",
    "        del kwargs['group_name']\n",
    "\n",
    "    X = arrays[0]\n",
    "    Y = arrays[1]\n",
    "    data = pd.concat([X, Y], axis=1)\n",
    "    # define label of group as average of labels of this group, rounded to integer, according to math rules (<0.5 -> 0, >=0.5 -> 1)\n",
    "    grouped_data = data.groupby(group_name)[target_column].mean().apply(lambda value: int(value * 2) - int(value)).reset_index()\n",
    "    x = grouped_data[[group_name]]\n",
    "    y = grouped_data[target_column]\n",
    "    groups_train, _, _, _ = train_test_split(\n",
    "        x,\n",
    "        y,\n",
    "        stratify=y,\n",
    "        **kwargs\n",
    "    )\n",
    "    train_index = X[group_name].isin(groups_train[group_name].tolist())\n",
    "    test_index = ~train_index\n",
    "\n",
    "    X_train = X[train_index]\n",
    "    y_train = Y[train_index]\n",
    "\n",
    "    X_test = X[test_index]\n",
    "    y_test = Y[test_index]\n",
    "\n",
    "    return X_train, X_test, y_train, y_test"
   ],
   "metadata": {
    "collapsed": false
   }
  },
  {
   "cell_type": "code",
   "execution_count": 9,
   "outputs": [],
   "source": [
    "def add_group_splitted_data(X, y, key='group'):\n",
    "    X_train, X_remaining, y_train, y_remaining = train_test_split_group(X, y, group_name='nameDest', train_size=train_size)\n",
    "    X_validation, X_test, y_validation, y_test = train_test_split_group(\n",
    "        X_remaining,\n",
    "        y_remaining,\n",
    "        group_name='nameDest',\n",
    "        test_size=test_size / (test_size + validation_size)\n",
    "    )\n",
    "\n",
    "    datasets[key] = {\n",
    "        'X': {\n",
    "            'train': X_train,\n",
    "            'test': X_test,\n",
    "            'validation': X_validation\n",
    "        },\n",
    "        'y': {\n",
    "            'train': y_train,\n",
    "            'test': y_test,\n",
    "            'validation': y_validation\n",
    "        }\n",
    "    }\n",
    "    return X_train, X_test, X_validation, y_train, y_test, y_validation"
   ],
   "metadata": {
    "collapsed": false
   }
  },
  {
   "cell_type": "code",
   "execution_count": 10,
   "outputs": [],
   "source": [
    "X_train, X_test, X_validation, y_train, y_test, y_validation = add_group_splitted_data(X, y)"
   ],
   "metadata": {
    "collapsed": false
   }
  },
  {
   "cell_type": "code",
   "execution_count": 11,
   "outputs": [
    {
     "name": "stdout",
     "output_type": "stream",
     "text": [
      "y_train_mean=0.00128\ty_test_mean=0.00128\n"
     ]
    }
   ],
   "source": [
    "y_train_mean = round(y_train.mean(), 5)\n",
    "y_test_mean = round(y_test.mean(), 5)\n",
    "print(f'{y_train_mean=}\\t{y_test_mean=}')"
   ],
   "metadata": {
    "collapsed": false
   }
  },
  {
   "cell_type": "code",
   "execution_count": 12,
   "outputs": [
    {
     "data": {
      "text/plain": "Empty DataFrame\nColumns: [step_x, amount_x, oldbalanceOrg_x, newbalanceOrig_x, nameDest, oldbalanceDest_x, newbalanceDest_x, has_debt_x, debt_x, origins_count_x, min_amount_x, max_amount_x, std_amount_x, median_amount_x, mean_amount_x, min_oldbalanceOrg_x, max_oldbalanceOrg_x, std_oldbalanceOrg_x, median_oldbalanceOrg_x, mean_oldbalanceOrg_x, min_newbalanceOrig_x, max_newbalanceOrig_x, std_newbalanceOrig_x, median_newbalanceOrig_x, mean_newbalanceOrig_x, min_oldbalanceDest_x, max_oldbalanceDest_x, std_oldbalanceDest_x, median_oldbalanceDest_x, mean_oldbalanceDest_x, min_newbalanceDest_x, max_newbalanceDest_x, std_newbalanceDest_x, median_newbalanceDest_x, mean_newbalanceDest_x, min_step_x, max_step_x, std_step_x, median_step_x, mean_step_x, min_has_debt_x, max_has_debt_x, std_has_debt_x, median_has_debt_x, mean_has_debt_x, amount_has_cents_x, amount_has_units_x, amount_has_tens_x, amount_has_hundreds_x, amount_is_equal_to_balance_x, type_code_x, type=PAYMENT_x, type=TRANSFER_x, type=CASH_IN_x, type=CASH_OUT_x, nameDestFirstLetter_code_x, nameDestFirstLetter=M_x, nameDestFirstLetterIsM_x, step_y, amount_y, oldbalanceOrg_y, newbalanceOrig_y, oldbalanceDest_y, newbalanceDest_y, has_debt_y, debt_y, origins_count_y, min_amount_y, max_amount_y, std_amount_y, median_amount_y, mean_amount_y, min_oldbalanceOrg_y, max_oldbalanceOrg_y, std_oldbalanceOrg_y, median_oldbalanceOrg_y, mean_oldbalanceOrg_y, min_newbalanceOrig_y, max_newbalanceOrig_y, std_newbalanceOrig_y, median_newbalanceOrig_y, mean_newbalanceOrig_y, min_oldbalanceDest_y, max_oldbalanceDest_y, std_oldbalanceDest_y, median_oldbalanceDest_y, mean_oldbalanceDest_y, min_newbalanceDest_y, max_newbalanceDest_y, std_newbalanceDest_y, median_newbalanceDest_y, mean_newbalanceDest_y, min_step_y, max_step_y, std_step_y, median_step_y, mean_step_y, min_has_debt_y, max_has_debt_y, std_has_debt_y, ...]\nIndex: []",
      "text/html": "<div>\n<style scoped>\n    .dataframe tbody tr th:only-of-type {\n        vertical-align: middle;\n    }\n\n    .dataframe tbody tr th {\n        vertical-align: top;\n    }\n\n    .dataframe thead th {\n        text-align: right;\n    }\n</style>\n<table border=\"1\" class=\"dataframe\">\n  <thead>\n    <tr style=\"text-align: right;\">\n      <th></th>\n      <th>step_x</th>\n      <th>amount_x</th>\n      <th>oldbalanceOrg_x</th>\n      <th>newbalanceOrig_x</th>\n      <th>nameDest</th>\n      <th>oldbalanceDest_x</th>\n      <th>newbalanceDest_x</th>\n      <th>has_debt_x</th>\n      <th>debt_x</th>\n      <th>origins_count_x</th>\n      <th>min_amount_x</th>\n      <th>max_amount_x</th>\n      <th>std_amount_x</th>\n      <th>median_amount_x</th>\n      <th>mean_amount_x</th>\n      <th>min_oldbalanceOrg_x</th>\n      <th>max_oldbalanceOrg_x</th>\n      <th>std_oldbalanceOrg_x</th>\n      <th>median_oldbalanceOrg_x</th>\n      <th>mean_oldbalanceOrg_x</th>\n      <th>min_newbalanceOrig_x</th>\n      <th>max_newbalanceOrig_x</th>\n      <th>std_newbalanceOrig_x</th>\n      <th>median_newbalanceOrig_x</th>\n      <th>mean_newbalanceOrig_x</th>\n      <th>min_oldbalanceDest_x</th>\n      <th>max_oldbalanceDest_x</th>\n      <th>std_oldbalanceDest_x</th>\n      <th>median_oldbalanceDest_x</th>\n      <th>mean_oldbalanceDest_x</th>\n      <th>min_newbalanceDest_x</th>\n      <th>max_newbalanceDest_x</th>\n      <th>std_newbalanceDest_x</th>\n      <th>median_newbalanceDest_x</th>\n      <th>mean_newbalanceDest_x</th>\n      <th>min_step_x</th>\n      <th>max_step_x</th>\n      <th>std_step_x</th>\n      <th>median_step_x</th>\n      <th>mean_step_x</th>\n      <th>min_has_debt_x</th>\n      <th>max_has_debt_x</th>\n      <th>std_has_debt_x</th>\n      <th>median_has_debt_x</th>\n      <th>mean_has_debt_x</th>\n      <th>amount_has_cents_x</th>\n      <th>amount_has_units_x</th>\n      <th>amount_has_tens_x</th>\n      <th>amount_has_hundreds_x</th>\n      <th>amount_is_equal_to_balance_x</th>\n      <th>type_code_x</th>\n      <th>type=PAYMENT_x</th>\n      <th>type=TRANSFER_x</th>\n      <th>type=CASH_IN_x</th>\n      <th>type=CASH_OUT_x</th>\n      <th>nameDestFirstLetter_code_x</th>\n      <th>nameDestFirstLetter=M_x</th>\n      <th>nameDestFirstLetterIsM_x</th>\n      <th>step_y</th>\n      <th>amount_y</th>\n      <th>oldbalanceOrg_y</th>\n      <th>newbalanceOrig_y</th>\n      <th>oldbalanceDest_y</th>\n      <th>newbalanceDest_y</th>\n      <th>has_debt_y</th>\n      <th>debt_y</th>\n      <th>origins_count_y</th>\n      <th>min_amount_y</th>\n      <th>max_amount_y</th>\n      <th>std_amount_y</th>\n      <th>median_amount_y</th>\n      <th>mean_amount_y</th>\n      <th>min_oldbalanceOrg_y</th>\n      <th>max_oldbalanceOrg_y</th>\n      <th>std_oldbalanceOrg_y</th>\n      <th>median_oldbalanceOrg_y</th>\n      <th>mean_oldbalanceOrg_y</th>\n      <th>min_newbalanceOrig_y</th>\n      <th>max_newbalanceOrig_y</th>\n      <th>std_newbalanceOrig_y</th>\n      <th>median_newbalanceOrig_y</th>\n      <th>mean_newbalanceOrig_y</th>\n      <th>min_oldbalanceDest_y</th>\n      <th>max_oldbalanceDest_y</th>\n      <th>std_oldbalanceDest_y</th>\n      <th>median_oldbalanceDest_y</th>\n      <th>mean_oldbalanceDest_y</th>\n      <th>min_newbalanceDest_y</th>\n      <th>max_newbalanceDest_y</th>\n      <th>std_newbalanceDest_y</th>\n      <th>median_newbalanceDest_y</th>\n      <th>mean_newbalanceDest_y</th>\n      <th>min_step_y</th>\n      <th>max_step_y</th>\n      <th>std_step_y</th>\n      <th>median_step_y</th>\n      <th>mean_step_y</th>\n      <th>min_has_debt_y</th>\n      <th>max_has_debt_y</th>\n      <th>std_has_debt_y</th>\n      <th>median_has_debt_y</th>\n      <th>mean_has_debt_y</th>\n      <th>amount_has_cents_y</th>\n      <th>amount_has_units_y</th>\n      <th>amount_has_tens_y</th>\n      <th>amount_has_hundreds_y</th>\n      <th>amount_is_equal_to_balance_y</th>\n      <th>type_code_y</th>\n      <th>type=PAYMENT_y</th>\n      <th>type=TRANSFER_y</th>\n      <th>type=CASH_IN_y</th>\n      <th>type=CASH_OUT_y</th>\n      <th>nameDestFirstLetter_code_y</th>\n      <th>nameDestFirstLetter=M_y</th>\n      <th>nameDestFirstLetterIsM_y</th>\n    </tr>\n  </thead>\n  <tbody>\n  </tbody>\n</table>\n</div>"
     },
     "execution_count": 12,
     "metadata": {},
     "output_type": "execute_result"
    }
   ],
   "source": [
    "pd.merge(\n",
    "    left=X_train,\n",
    "    right=X_test,\n",
    "    on='nameDest'\n",
    ")"
   ],
   "metadata": {
    "collapsed": false
   }
  },
  {
   "cell_type": "markdown",
   "source": [
    "Our split allowed us to keep the same balance of classes in sets, and also keep all transactions of one recipient in one set to avoid data leek"
   ],
   "metadata": {
    "collapsed": false
   }
  },
  {
   "cell_type": "markdown",
   "source": [
    "### Split only types of interest"
   ],
   "metadata": {
    "collapsed": false
   }
  },
  {
   "cell_type": "markdown",
   "source": [
    "Not each type of transaction has fraud transactions. Let's simplify data for model and remove types of transactions which doesn't have fraud."
   ],
   "metadata": {
    "collapsed": false
   }
  },
  {
   "cell_type": "code",
   "execution_count": 13,
   "outputs": [],
   "source": [
    "transactions_of_interest = transactions[transactions['type=TRANSFER'] | transactions['type=CASH_OUT']]\n",
    "X = transactions_of_interest.drop(columns=target_column)\n",
    "y = transactions_of_interest[target_column]\n",
    "add_common_splitted_data(X, y, 'common_main_types')\n",
    "_ = add_group_splitted_data(X, y, 'group_main_types')"
   ],
   "metadata": {
    "collapsed": false
   }
  },
  {
   "cell_type": "code",
   "execution_count": 14,
   "outputs": [
    {
     "data": {
      "text/plain": "dict_keys(['common', 'group', 'common_main_types', 'group_main_types'])"
     },
     "execution_count": 14,
     "metadata": {},
     "output_type": "execute_result"
    }
   ],
   "source": [
    "datasets.keys()"
   ],
   "metadata": {
    "collapsed": false
   }
  },
  {
   "cell_type": "code",
   "execution_count": 15,
   "outputs": [
    {
     "name": "stdout",
     "output_type": "stream",
     "text": [
      "common\n",
      "\n",
      "train\n",
      "dataset['X'][set_type].shape=(3181310, 58)\tdataset['y'][set_type].shape=(3181310,)\n",
      "\n",
      "test\n",
      "dataset['X'][set_type].shape=(1272524, 58)\tdataset['y'][set_type].shape=(1272524,)\n",
      "\n",
      "validation\n",
      "dataset['X'][set_type].shape=(1908786, 58)\tdataset['y'][set_type].shape=(1908786,)\n",
      "\n",
      "\n",
      "group\n",
      "\n",
      "train\n",
      "dataset['X'][set_type].shape=(3178830, 58)\tdataset['y'][set_type].shape=(3178830,)\n",
      "\n",
      "test\n",
      "dataset['X'][set_type].shape=(1276251, 58)\tdataset['y'][set_type].shape=(1276251,)\n",
      "\n",
      "validation\n",
      "dataset['X'][set_type].shape=(1907539, 58)\tdataset['y'][set_type].shape=(1907539,)\n",
      "\n",
      "\n",
      "common_main_types\n",
      "\n",
      "train\n",
      "dataset['X'][set_type].shape=(1385204, 58)\tdataset['y'][set_type].shape=(1385204,)\n",
      "\n",
      "test\n",
      "dataset['X'][set_type].shape=(554082, 58)\tdataset['y'][set_type].shape=(554082,)\n",
      "\n",
      "validation\n",
      "dataset['X'][set_type].shape=(831123, 58)\tdataset['y'][set_type].shape=(831123,)\n",
      "\n",
      "\n",
      "group_main_types\n",
      "\n",
      "train\n",
      "dataset['X'][set_type].shape=(1385977, 58)\tdataset['y'][set_type].shape=(1385977,)\n",
      "\n",
      "test\n",
      "dataset['X'][set_type].shape=(555390, 58)\tdataset['y'][set_type].shape=(555390,)\n",
      "\n",
      "validation\n",
      "dataset['X'][set_type].shape=(829042, 58)\tdataset['y'][set_type].shape=(829042,)\n",
      "\n",
      "\n"
     ]
    }
   ],
   "source": [
    "for dataset_name, dataset in datasets.items():\n",
    "    print(dataset_name)\n",
    "    for set_type in ['train', 'test', 'validation']:\n",
    "        print()\n",
    "        print(set_type)\n",
    "        print(f\"{dataset['X'][set_type].shape=}\\t{dataset['y'][set_type].shape=}\")\n",
    "    print('\\n')"
   ],
   "metadata": {
    "collapsed": false
   }
  },
  {
   "cell_type": "markdown",
   "source": [
    "### Standardization"
   ],
   "metadata": {
    "collapsed": false
   }
  },
  {
   "cell_type": "code",
   "execution_count": 16,
   "outputs": [
    {
     "name": "stderr",
     "output_type": "stream",
     "text": [
      "  0%|          | 0/4 [00:00<?, ?it/s]\n",
      "  0%|          | 0/3 [00:40<?, ?it/s]\u001B[A\n",
      "  0%|          | 0/4 [01:18<?, ?it/s]\n"
     ]
    },
    {
     "ename": "KeyboardInterrupt",
     "evalue": "",
     "output_type": "error",
     "traceback": [
      "\u001B[0;31m---------------------------------------------------------------------------\u001B[0m",
      "\u001B[0;31mKeyboardInterrupt\u001B[0m                         Traceback (most recent call last)",
      "Cell \u001B[0;32mIn[16], line 29\u001B[0m\n\u001B[1;32m     27\u001B[0m \u001B[38;5;28;01mif\u001B[39;00m \u001B[38;5;129;01mnot\u001B[39;00m os\u001B[38;5;241m.\u001B[39mpath\u001B[38;5;241m.\u001B[39misdir(dir_name):\n\u001B[1;32m     28\u001B[0m     os\u001B[38;5;241m.\u001B[39mmkdir(dir_name)\n\u001B[0;32m---> 29\u001B[0m \u001B[43mvalue\u001B[49m\u001B[38;5;241;43m.\u001B[39;49m\u001B[43mto_csv\u001B[49m\u001B[43m(\u001B[49m\u001B[38;5;124;43mf\u001B[39;49m\u001B[38;5;124;43m'\u001B[39;49m\u001B[38;5;124;43m./\u001B[39;49m\u001B[38;5;132;43;01m{\u001B[39;49;00m\u001B[43mdir_name\u001B[49m\u001B[38;5;132;43;01m}\u001B[39;49;00m\u001B[38;5;124;43m/x_\u001B[39;49m\u001B[38;5;132;43;01m{\u001B[39;49;00m\u001B[43mdataset_name\u001B[49m\u001B[38;5;132;43;01m}\u001B[39;49;00m\u001B[38;5;124;43m_\u001B[39;49m\u001B[38;5;132;43;01m{\u001B[39;49;00m\u001B[43mkey\u001B[49m\u001B[38;5;132;43;01m}\u001B[39;49;00m\u001B[38;5;124;43m.csv\u001B[39;49m\u001B[38;5;124;43m'\u001B[39;49m\u001B[43m,\u001B[49m\u001B[43m \u001B[49m\u001B[43mindex\u001B[49m\u001B[38;5;241;43m=\u001B[39;49m\u001B[38;5;28;43;01mFalse\u001B[39;49;00m\u001B[43m)\u001B[49m\n\u001B[1;32m     30\u001B[0m y[key]\u001B[38;5;241m.\u001B[39mto_csv(\u001B[38;5;124mf\u001B[39m\u001B[38;5;124m'\u001B[39m\u001B[38;5;124m./\u001B[39m\u001B[38;5;132;01m{\u001B[39;00mdir_name\u001B[38;5;132;01m}\u001B[39;00m\u001B[38;5;124m/y_\u001B[39m\u001B[38;5;132;01m{\u001B[39;00mdataset_name\u001B[38;5;132;01m}\u001B[39;00m\u001B[38;5;124m_\u001B[39m\u001B[38;5;132;01m{\u001B[39;00mkey\u001B[38;5;132;01m}\u001B[39;00m\u001B[38;5;124m.csv\u001B[39m\u001B[38;5;124m'\u001B[39m, index\u001B[38;5;241m=\u001B[39m\u001B[38;5;28;01mFalse\u001B[39;00m)\n",
      "File \u001B[0;32m~/PycharmProjects/CVTDM_Fraud_Prediction/venv/lib/python3.8/site-packages/pandas/util/_decorators.py:211\u001B[0m, in \u001B[0;36mdeprecate_kwarg.<locals>._deprecate_kwarg.<locals>.wrapper\u001B[0;34m(*args, **kwargs)\u001B[0m\n\u001B[1;32m    209\u001B[0m     \u001B[38;5;28;01melse\u001B[39;00m:\n\u001B[1;32m    210\u001B[0m         kwargs[new_arg_name] \u001B[38;5;241m=\u001B[39m new_arg_value\n\u001B[0;32m--> 211\u001B[0m \u001B[38;5;28;01mreturn\u001B[39;00m \u001B[43mfunc\u001B[49m\u001B[43m(\u001B[49m\u001B[38;5;241;43m*\u001B[39;49m\u001B[43margs\u001B[49m\u001B[43m,\u001B[49m\u001B[43m \u001B[49m\u001B[38;5;241;43m*\u001B[39;49m\u001B[38;5;241;43m*\u001B[39;49m\u001B[43mkwargs\u001B[49m\u001B[43m)\u001B[49m\n",
      "File \u001B[0;32m~/PycharmProjects/CVTDM_Fraud_Prediction/venv/lib/python3.8/site-packages/pandas/core/generic.py:3720\u001B[0m, in \u001B[0;36mNDFrame.to_csv\u001B[0;34m(self, path_or_buf, sep, na_rep, float_format, columns, header, index, index_label, mode, encoding, compression, quoting, quotechar, lineterminator, chunksize, date_format, doublequote, escapechar, decimal, errors, storage_options)\u001B[0m\n\u001B[1;32m   3709\u001B[0m df \u001B[38;5;241m=\u001B[39m \u001B[38;5;28mself\u001B[39m \u001B[38;5;28;01mif\u001B[39;00m \u001B[38;5;28misinstance\u001B[39m(\u001B[38;5;28mself\u001B[39m, ABCDataFrame) \u001B[38;5;28;01melse\u001B[39;00m \u001B[38;5;28mself\u001B[39m\u001B[38;5;241m.\u001B[39mto_frame()\n\u001B[1;32m   3711\u001B[0m formatter \u001B[38;5;241m=\u001B[39m DataFrameFormatter(\n\u001B[1;32m   3712\u001B[0m     frame\u001B[38;5;241m=\u001B[39mdf,\n\u001B[1;32m   3713\u001B[0m     header\u001B[38;5;241m=\u001B[39mheader,\n\u001B[0;32m   (...)\u001B[0m\n\u001B[1;32m   3717\u001B[0m     decimal\u001B[38;5;241m=\u001B[39mdecimal,\n\u001B[1;32m   3718\u001B[0m )\n\u001B[0;32m-> 3720\u001B[0m \u001B[38;5;28;01mreturn\u001B[39;00m \u001B[43mDataFrameRenderer\u001B[49m\u001B[43m(\u001B[49m\u001B[43mformatter\u001B[49m\u001B[43m)\u001B[49m\u001B[38;5;241;43m.\u001B[39;49m\u001B[43mto_csv\u001B[49m\u001B[43m(\u001B[49m\n\u001B[1;32m   3721\u001B[0m \u001B[43m    \u001B[49m\u001B[43mpath_or_buf\u001B[49m\u001B[43m,\u001B[49m\n\u001B[1;32m   3722\u001B[0m \u001B[43m    \u001B[49m\u001B[43mlineterminator\u001B[49m\u001B[38;5;241;43m=\u001B[39;49m\u001B[43mlineterminator\u001B[49m\u001B[43m,\u001B[49m\n\u001B[1;32m   3723\u001B[0m \u001B[43m    \u001B[49m\u001B[43msep\u001B[49m\u001B[38;5;241;43m=\u001B[39;49m\u001B[43msep\u001B[49m\u001B[43m,\u001B[49m\n\u001B[1;32m   3724\u001B[0m \u001B[43m    \u001B[49m\u001B[43mencoding\u001B[49m\u001B[38;5;241;43m=\u001B[39;49m\u001B[43mencoding\u001B[49m\u001B[43m,\u001B[49m\n\u001B[1;32m   3725\u001B[0m \u001B[43m    \u001B[49m\u001B[43merrors\u001B[49m\u001B[38;5;241;43m=\u001B[39;49m\u001B[43merrors\u001B[49m\u001B[43m,\u001B[49m\n\u001B[1;32m   3726\u001B[0m \u001B[43m    \u001B[49m\u001B[43mcompression\u001B[49m\u001B[38;5;241;43m=\u001B[39;49m\u001B[43mcompression\u001B[49m\u001B[43m,\u001B[49m\n\u001B[1;32m   3727\u001B[0m \u001B[43m    \u001B[49m\u001B[43mquoting\u001B[49m\u001B[38;5;241;43m=\u001B[39;49m\u001B[43mquoting\u001B[49m\u001B[43m,\u001B[49m\n\u001B[1;32m   3728\u001B[0m \u001B[43m    \u001B[49m\u001B[43mcolumns\u001B[49m\u001B[38;5;241;43m=\u001B[39;49m\u001B[43mcolumns\u001B[49m\u001B[43m,\u001B[49m\n\u001B[1;32m   3729\u001B[0m \u001B[43m    \u001B[49m\u001B[43mindex_label\u001B[49m\u001B[38;5;241;43m=\u001B[39;49m\u001B[43mindex_label\u001B[49m\u001B[43m,\u001B[49m\n\u001B[1;32m   3730\u001B[0m \u001B[43m    \u001B[49m\u001B[43mmode\u001B[49m\u001B[38;5;241;43m=\u001B[39;49m\u001B[43mmode\u001B[49m\u001B[43m,\u001B[49m\n\u001B[1;32m   3731\u001B[0m \u001B[43m    \u001B[49m\u001B[43mchunksize\u001B[49m\u001B[38;5;241;43m=\u001B[39;49m\u001B[43mchunksize\u001B[49m\u001B[43m,\u001B[49m\n\u001B[1;32m   3732\u001B[0m \u001B[43m    \u001B[49m\u001B[43mquotechar\u001B[49m\u001B[38;5;241;43m=\u001B[39;49m\u001B[43mquotechar\u001B[49m\u001B[43m,\u001B[49m\n\u001B[1;32m   3733\u001B[0m \u001B[43m    \u001B[49m\u001B[43mdate_format\u001B[49m\u001B[38;5;241;43m=\u001B[39;49m\u001B[43mdate_format\u001B[49m\u001B[43m,\u001B[49m\n\u001B[1;32m   3734\u001B[0m \u001B[43m    \u001B[49m\u001B[43mdoublequote\u001B[49m\u001B[38;5;241;43m=\u001B[39;49m\u001B[43mdoublequote\u001B[49m\u001B[43m,\u001B[49m\n\u001B[1;32m   3735\u001B[0m \u001B[43m    \u001B[49m\u001B[43mescapechar\u001B[49m\u001B[38;5;241;43m=\u001B[39;49m\u001B[43mescapechar\u001B[49m\u001B[43m,\u001B[49m\n\u001B[1;32m   3736\u001B[0m \u001B[43m    \u001B[49m\u001B[43mstorage_options\u001B[49m\u001B[38;5;241;43m=\u001B[39;49m\u001B[43mstorage_options\u001B[49m\u001B[43m,\u001B[49m\n\u001B[1;32m   3737\u001B[0m \u001B[43m\u001B[49m\u001B[43m)\u001B[49m\n",
      "File \u001B[0;32m~/PycharmProjects/CVTDM_Fraud_Prediction/venv/lib/python3.8/site-packages/pandas/util/_decorators.py:211\u001B[0m, in \u001B[0;36mdeprecate_kwarg.<locals>._deprecate_kwarg.<locals>.wrapper\u001B[0;34m(*args, **kwargs)\u001B[0m\n\u001B[1;32m    209\u001B[0m     \u001B[38;5;28;01melse\u001B[39;00m:\n\u001B[1;32m    210\u001B[0m         kwargs[new_arg_name] \u001B[38;5;241m=\u001B[39m new_arg_value\n\u001B[0;32m--> 211\u001B[0m \u001B[38;5;28;01mreturn\u001B[39;00m \u001B[43mfunc\u001B[49m\u001B[43m(\u001B[49m\u001B[38;5;241;43m*\u001B[39;49m\u001B[43margs\u001B[49m\u001B[43m,\u001B[49m\u001B[43m \u001B[49m\u001B[38;5;241;43m*\u001B[39;49m\u001B[38;5;241;43m*\u001B[39;49m\u001B[43mkwargs\u001B[49m\u001B[43m)\u001B[49m\n",
      "File \u001B[0;32m~/PycharmProjects/CVTDM_Fraud_Prediction/venv/lib/python3.8/site-packages/pandas/io/formats/format.py:1189\u001B[0m, in \u001B[0;36mDataFrameRenderer.to_csv\u001B[0;34m(self, path_or_buf, encoding, sep, columns, index_label, mode, compression, quoting, quotechar, lineterminator, chunksize, date_format, doublequote, escapechar, errors, storage_options)\u001B[0m\n\u001B[1;32m   1168\u001B[0m     created_buffer \u001B[38;5;241m=\u001B[39m \u001B[38;5;28;01mFalse\u001B[39;00m\n\u001B[1;32m   1170\u001B[0m csv_formatter \u001B[38;5;241m=\u001B[39m CSVFormatter(\n\u001B[1;32m   1171\u001B[0m     path_or_buf\u001B[38;5;241m=\u001B[39mpath_or_buf,\n\u001B[1;32m   1172\u001B[0m     lineterminator\u001B[38;5;241m=\u001B[39mlineterminator,\n\u001B[0;32m   (...)\u001B[0m\n\u001B[1;32m   1187\u001B[0m     formatter\u001B[38;5;241m=\u001B[39m\u001B[38;5;28mself\u001B[39m\u001B[38;5;241m.\u001B[39mfmt,\n\u001B[1;32m   1188\u001B[0m )\n\u001B[0;32m-> 1189\u001B[0m \u001B[43mcsv_formatter\u001B[49m\u001B[38;5;241;43m.\u001B[39;49m\u001B[43msave\u001B[49m\u001B[43m(\u001B[49m\u001B[43m)\u001B[49m\n\u001B[1;32m   1191\u001B[0m \u001B[38;5;28;01mif\u001B[39;00m created_buffer:\n\u001B[1;32m   1192\u001B[0m     \u001B[38;5;28;01massert\u001B[39;00m \u001B[38;5;28misinstance\u001B[39m(path_or_buf, StringIO)\n",
      "File \u001B[0;32m~/PycharmProjects/CVTDM_Fraud_Prediction/venv/lib/python3.8/site-packages/pandas/io/formats/csvs.py:261\u001B[0m, in \u001B[0;36mCSVFormatter.save\u001B[0;34m(self)\u001B[0m\n\u001B[1;32m    241\u001B[0m \u001B[38;5;28;01mwith\u001B[39;00m get_handle(\n\u001B[1;32m    242\u001B[0m     \u001B[38;5;28mself\u001B[39m\u001B[38;5;241m.\u001B[39mfilepath_or_buffer,\n\u001B[1;32m    243\u001B[0m     \u001B[38;5;28mself\u001B[39m\u001B[38;5;241m.\u001B[39mmode,\n\u001B[0;32m   (...)\u001B[0m\n\u001B[1;32m    249\u001B[0m \n\u001B[1;32m    250\u001B[0m     \u001B[38;5;66;03m# Note: self.encoding is irrelevant here\u001B[39;00m\n\u001B[1;32m    251\u001B[0m     \u001B[38;5;28mself\u001B[39m\u001B[38;5;241m.\u001B[39mwriter \u001B[38;5;241m=\u001B[39m csvlib\u001B[38;5;241m.\u001B[39mwriter(\n\u001B[1;32m    252\u001B[0m         handles\u001B[38;5;241m.\u001B[39mhandle,\n\u001B[1;32m    253\u001B[0m         lineterminator\u001B[38;5;241m=\u001B[39m\u001B[38;5;28mself\u001B[39m\u001B[38;5;241m.\u001B[39mlineterminator,\n\u001B[0;32m   (...)\u001B[0m\n\u001B[1;32m    258\u001B[0m         quotechar\u001B[38;5;241m=\u001B[39m\u001B[38;5;28mself\u001B[39m\u001B[38;5;241m.\u001B[39mquotechar,\n\u001B[1;32m    259\u001B[0m     )\n\u001B[0;32m--> 261\u001B[0m     \u001B[38;5;28;43mself\u001B[39;49m\u001B[38;5;241;43m.\u001B[39;49m\u001B[43m_save\u001B[49m\u001B[43m(\u001B[49m\u001B[43m)\u001B[49m\n",
      "File \u001B[0;32m~/PycharmProjects/CVTDM_Fraud_Prediction/venv/lib/python3.8/site-packages/pandas/io/formats/csvs.py:266\u001B[0m, in \u001B[0;36mCSVFormatter._save\u001B[0;34m(self)\u001B[0m\n\u001B[1;32m    264\u001B[0m \u001B[38;5;28;01mif\u001B[39;00m \u001B[38;5;28mself\u001B[39m\u001B[38;5;241m.\u001B[39m_need_to_save_header:\n\u001B[1;32m    265\u001B[0m     \u001B[38;5;28mself\u001B[39m\u001B[38;5;241m.\u001B[39m_save_header()\n\u001B[0;32m--> 266\u001B[0m \u001B[38;5;28;43mself\u001B[39;49m\u001B[38;5;241;43m.\u001B[39;49m\u001B[43m_save_body\u001B[49m\u001B[43m(\u001B[49m\u001B[43m)\u001B[49m\n",
      "File \u001B[0;32m~/PycharmProjects/CVTDM_Fraud_Prediction/venv/lib/python3.8/site-packages/pandas/io/formats/csvs.py:304\u001B[0m, in \u001B[0;36mCSVFormatter._save_body\u001B[0;34m(self)\u001B[0m\n\u001B[1;32m    302\u001B[0m \u001B[38;5;28;01mif\u001B[39;00m start_i \u001B[38;5;241m>\u001B[39m\u001B[38;5;241m=\u001B[39m end_i:\n\u001B[1;32m    303\u001B[0m     \u001B[38;5;28;01mbreak\u001B[39;00m\n\u001B[0;32m--> 304\u001B[0m \u001B[38;5;28;43mself\u001B[39;49m\u001B[38;5;241;43m.\u001B[39;49m\u001B[43m_save_chunk\u001B[49m\u001B[43m(\u001B[49m\u001B[43mstart_i\u001B[49m\u001B[43m,\u001B[49m\u001B[43m \u001B[49m\u001B[43mend_i\u001B[49m\u001B[43m)\u001B[49m\n",
      "File \u001B[0;32m~/PycharmProjects/CVTDM_Fraud_Prediction/venv/lib/python3.8/site-packages/pandas/io/formats/csvs.py:311\u001B[0m, in \u001B[0;36mCSVFormatter._save_chunk\u001B[0;34m(self, start_i, end_i)\u001B[0m\n\u001B[1;32m    308\u001B[0m slicer \u001B[38;5;241m=\u001B[39m \u001B[38;5;28mslice\u001B[39m(start_i, end_i)\n\u001B[1;32m    309\u001B[0m df \u001B[38;5;241m=\u001B[39m \u001B[38;5;28mself\u001B[39m\u001B[38;5;241m.\u001B[39mobj\u001B[38;5;241m.\u001B[39miloc[slicer]\n\u001B[0;32m--> 311\u001B[0m res \u001B[38;5;241m=\u001B[39m \u001B[43mdf\u001B[49m\u001B[38;5;241;43m.\u001B[39;49m\u001B[43m_mgr\u001B[49m\u001B[38;5;241;43m.\u001B[39;49m\u001B[43mto_native_types\u001B[49m\u001B[43m(\u001B[49m\u001B[38;5;241;43m*\u001B[39;49m\u001B[38;5;241;43m*\u001B[39;49m\u001B[38;5;28;43mself\u001B[39;49m\u001B[38;5;241;43m.\u001B[39;49m\u001B[43m_number_format\u001B[49m\u001B[43m)\u001B[49m\n\u001B[1;32m    312\u001B[0m data \u001B[38;5;241m=\u001B[39m [res\u001B[38;5;241m.\u001B[39miget_values(i) \u001B[38;5;28;01mfor\u001B[39;00m i \u001B[38;5;129;01min\u001B[39;00m \u001B[38;5;28mrange\u001B[39m(\u001B[38;5;28mlen\u001B[39m(res\u001B[38;5;241m.\u001B[39mitems))]\n\u001B[1;32m    314\u001B[0m ix \u001B[38;5;241m=\u001B[39m \u001B[38;5;28mself\u001B[39m\u001B[38;5;241m.\u001B[39mdata_index[slicer]\u001B[38;5;241m.\u001B[39m_format_native_types(\u001B[38;5;241m*\u001B[39m\u001B[38;5;241m*\u001B[39m\u001B[38;5;28mself\u001B[39m\u001B[38;5;241m.\u001B[39m_number_format)\n",
      "File \u001B[0;32m~/PycharmProjects/CVTDM_Fraud_Prediction/venv/lib/python3.8/site-packages/pandas/core/internals/managers.py:504\u001B[0m, in \u001B[0;36mBaseBlockManager.to_native_types\u001B[0;34m(self, **kwargs)\u001B[0m\n\u001B[1;32m    499\u001B[0m \u001B[38;5;28;01mdef\u001B[39;00m \u001B[38;5;21mto_native_types\u001B[39m(\u001B[38;5;28mself\u001B[39m: T, \u001B[38;5;241m*\u001B[39m\u001B[38;5;241m*\u001B[39mkwargs) \u001B[38;5;241m-\u001B[39m\u001B[38;5;241m>\u001B[39m T:\n\u001B[1;32m    500\u001B[0m     \u001B[38;5;124;03m\"\"\"\u001B[39;00m\n\u001B[1;32m    501\u001B[0m \u001B[38;5;124;03m    Convert values to native types (strings / python objects) that are used\u001B[39;00m\n\u001B[1;32m    502\u001B[0m \u001B[38;5;124;03m    in formatting (repr / csv).\u001B[39;00m\n\u001B[1;32m    503\u001B[0m \u001B[38;5;124;03m    \"\"\"\u001B[39;00m\n\u001B[0;32m--> 504\u001B[0m     \u001B[38;5;28;01mreturn\u001B[39;00m \u001B[38;5;28;43mself\u001B[39;49m\u001B[38;5;241;43m.\u001B[39;49m\u001B[43mapply\u001B[49m\u001B[43m(\u001B[49m\u001B[38;5;124;43m\"\u001B[39;49m\u001B[38;5;124;43mto_native_types\u001B[39;49m\u001B[38;5;124;43m\"\u001B[39;49m\u001B[43m,\u001B[49m\u001B[43m \u001B[49m\u001B[38;5;241;43m*\u001B[39;49m\u001B[38;5;241;43m*\u001B[39;49m\u001B[43mkwargs\u001B[49m\u001B[43m)\u001B[49m\n",
      "File \u001B[0;32m~/PycharmProjects/CVTDM_Fraud_Prediction/venv/lib/python3.8/site-packages/pandas/core/internals/managers.py:352\u001B[0m, in \u001B[0;36mBaseBlockManager.apply\u001B[0;34m(self, f, align_keys, ignore_failures, **kwargs)\u001B[0m\n\u001B[1;32m    350\u001B[0m         applied \u001B[38;5;241m=\u001B[39m b\u001B[38;5;241m.\u001B[39mapply(f, \u001B[38;5;241m*\u001B[39m\u001B[38;5;241m*\u001B[39mkwargs)\n\u001B[1;32m    351\u001B[0m     \u001B[38;5;28;01melse\u001B[39;00m:\n\u001B[0;32m--> 352\u001B[0m         applied \u001B[38;5;241m=\u001B[39m \u001B[38;5;28;43mgetattr\u001B[39;49m\u001B[43m(\u001B[49m\u001B[43mb\u001B[49m\u001B[43m,\u001B[49m\u001B[43m \u001B[49m\u001B[43mf\u001B[49m\u001B[43m)\u001B[49m\u001B[43m(\u001B[49m\u001B[38;5;241;43m*\u001B[39;49m\u001B[38;5;241;43m*\u001B[39;49m\u001B[43mkwargs\u001B[49m\u001B[43m)\u001B[49m\n\u001B[1;32m    353\u001B[0m \u001B[38;5;28;01mexcept\u001B[39;00m (\u001B[38;5;167;01mTypeError\u001B[39;00m, \u001B[38;5;167;01mNotImplementedError\u001B[39;00m):\n\u001B[1;32m    354\u001B[0m     \u001B[38;5;28;01mif\u001B[39;00m \u001B[38;5;129;01mnot\u001B[39;00m ignore_failures:\n",
      "File \u001B[0;32m~/PycharmProjects/CVTDM_Fraud_Prediction/venv/lib/python3.8/site-packages/pandas/core/internals/blocks.py:541\u001B[0m, in \u001B[0;36mBlock.to_native_types\u001B[0;34m(self, na_rep, quoting, **kwargs)\u001B[0m\n\u001B[1;32m    538\u001B[0m \u001B[38;5;129m@final\u001B[39m\n\u001B[1;32m    539\u001B[0m \u001B[38;5;28;01mdef\u001B[39;00m \u001B[38;5;21mto_native_types\u001B[39m(\u001B[38;5;28mself\u001B[39m, na_rep\u001B[38;5;241m=\u001B[39m\u001B[38;5;124m\"\u001B[39m\u001B[38;5;124mnan\u001B[39m\u001B[38;5;124m\"\u001B[39m, quoting\u001B[38;5;241m=\u001B[39m\u001B[38;5;28;01mNone\u001B[39;00m, \u001B[38;5;241m*\u001B[39m\u001B[38;5;241m*\u001B[39mkwargs) \u001B[38;5;241m-\u001B[39m\u001B[38;5;241m>\u001B[39m Block:\n\u001B[1;32m    540\u001B[0m     \u001B[38;5;124;03m\"\"\"convert to our native types format\"\"\"\u001B[39;00m\n\u001B[0;32m--> 541\u001B[0m     result \u001B[38;5;241m=\u001B[39m \u001B[43mto_native_types\u001B[49m\u001B[43m(\u001B[49m\u001B[38;5;28;43mself\u001B[39;49m\u001B[38;5;241;43m.\u001B[39;49m\u001B[43mvalues\u001B[49m\u001B[43m,\u001B[49m\u001B[43m \u001B[49m\u001B[43mna_rep\u001B[49m\u001B[38;5;241;43m=\u001B[39;49m\u001B[43mna_rep\u001B[49m\u001B[43m,\u001B[49m\u001B[43m \u001B[49m\u001B[43mquoting\u001B[49m\u001B[38;5;241;43m=\u001B[39;49m\u001B[43mquoting\u001B[49m\u001B[43m,\u001B[49m\u001B[43m \u001B[49m\u001B[38;5;241;43m*\u001B[39;49m\u001B[38;5;241;43m*\u001B[39;49m\u001B[43mkwargs\u001B[49m\u001B[43m)\u001B[49m\n\u001B[1;32m    542\u001B[0m     \u001B[38;5;28;01mreturn\u001B[39;00m \u001B[38;5;28mself\u001B[39m\u001B[38;5;241m.\u001B[39mmake_block(result)\n",
      "File \u001B[0;32m~/PycharmProjects/CVTDM_Fraud_Prediction/venv/lib/python3.8/site-packages/pandas/core/internals/blocks.py:2323\u001B[0m, in \u001B[0;36mto_native_types\u001B[0;34m(values, na_rep, quoting, float_format, decimal, **kwargs)\u001B[0m\n\u001B[1;32m   2320\u001B[0m mask \u001B[38;5;241m=\u001B[39m isna(values)\n\u001B[1;32m   2322\u001B[0m \u001B[38;5;28;01mif\u001B[39;00m \u001B[38;5;129;01mnot\u001B[39;00m quoting:\n\u001B[0;32m-> 2323\u001B[0m     values \u001B[38;5;241m=\u001B[39m \u001B[43mvalues\u001B[49m\u001B[38;5;241;43m.\u001B[39;49m\u001B[43mastype\u001B[49m\u001B[43m(\u001B[49m\u001B[38;5;28;43mstr\u001B[39;49m\u001B[43m)\u001B[49m\n\u001B[1;32m   2324\u001B[0m \u001B[38;5;28;01melse\u001B[39;00m:\n\u001B[1;32m   2325\u001B[0m     values \u001B[38;5;241m=\u001B[39m np\u001B[38;5;241m.\u001B[39marray(values, dtype\u001B[38;5;241m=\u001B[39m\u001B[38;5;124m\"\u001B[39m\u001B[38;5;124mobject\u001B[39m\u001B[38;5;124m\"\u001B[39m)\n",
      "\u001B[0;31mKeyboardInterrupt\u001B[0m: "
     ]
    }
   ],
   "source": [
    "from sklearn.preprocessing import StandardScaler\n",
    "import os\n",
    "from tqdm import tqdm\n",
    "\n",
    "columns_to_drop = ['nameDest']\n",
    "for dataset_name, dataset in tqdm(datasets.items()):\n",
    "    X = dataset['X']\n",
    "    y = dataset['y']\n",
    "\n",
    "    scaler = StandardScaler()\n",
    "\n",
    "    columns = X['train'].drop(columns=columns_to_drop).columns\n",
    "    train = scaler.fit_transform(X['train'].drop(columns=columns_to_drop))\n",
    "    test = scaler.transform(X['test'].drop(columns=columns_to_drop))\n",
    "    validation = scaler.transform(X['validation'].drop(columns=columns_to_drop))\n",
    "\n",
    "    X['train'] = pd.DataFrame(train, columns=columns)\n",
    "    X['test'] = pd.DataFrame(test, columns=columns)\n",
    "    X['validation'] = pd.DataFrame(validation, columns=columns)\n",
    "\n",
    "    del train\n",
    "    del test\n",
    "    del validation\n",
    "\n",
    "    for key, value in tqdm(X.items()):\n",
    "        dir_name = 'data'\n",
    "        if not os.path.isdir(dir_name):\n",
    "            os.mkdir(dir_name)\n",
    "        value.to_csv(f'./{dir_name}/x_{dataset_name}_{key}.csv', index=False)\n",
    "        y[key].to_csv(f'./{dir_name}/y_{dataset_name}_{key}.csv', index=False)"
   ],
   "metadata": {
    "collapsed": false
   }
  },
  {
   "cell_type": "code",
   "execution_count": 4,
   "outputs": [],
   "source": [
    "try:\n",
    "    data = datasets['group_main_types']\n",
    "    X = data['X']\n",
    "    y = data['y']\n",
    "\n",
    "    X_train, X_test, X_validation = X['train'], X['test'], X['validation']\n",
    "    y_train, y_test, y_validation = y['train'], y['test'], y['validation']\n",
    "\n",
    "    del datasets\n",
    "    del transactions\n",
    "except:\n",
    "    X_train = pd.read_csv('./data/x_group_main_types_train.csv')\n",
    "    X_test = pd.read_csv('./data/x_group_main_types_test.csv')\n",
    "    X_validation = pd.read_csv('./data/x_group_main_types_validation.csv')\n",
    "\n",
    "    y_train = pd.read_csv('./data/y_group_main_types_train.csv')\n",
    "    y_test = pd.read_csv('./data/y_group_main_types_test.csv')\n",
    "    y_validation = pd.read_csv('./data/y_group_main_types_validation.csv')\n"
   ],
   "metadata": {
    "collapsed": false
   }
  },
  {
   "cell_type": "markdown",
   "source": [
    "# Dimensionality reduction"
   ],
   "metadata": {
    "collapsed": false
   }
  },
  {
   "cell_type": "markdown",
   "source": [
    "Let's reduce number of dimensions to achieve better results"
   ],
   "metadata": {
    "collapsed": false
   }
  },
  {
   "cell_type": "code",
   "execution_count": 3,
   "outputs": [
    {
     "data": {
      "text/plain": "<Figure size 2000x900 with 1 Axes>",
      "image/png": "[encoded data removed]"
     },
     "metadata": {},
     "output_type": "display_data"
    }
   ],
   "source": [
    "from sklearn.decomposition import PCA\n",
    "\n",
    "pca = PCA()\n",
    "pca.fit_transform(X_validation)\n",
    "pca_variance = pca.explained_variance_\n",
    "\n",
    "plt.bar(range(X_validation.shape[1]), pca_variance, alpha=0.5, align='center', label='individual variance')\n",
    "plt.legend()\n",
    "plt.ylabel('Variance ratio')\n",
    "plt.xlabel('Principal components')\n",
    "plt.show()"
   ],
   "metadata": {
    "collapsed": false
   }
  },
  {
   "cell_type": "markdown",
   "source": [
    "As we can see, about 20 features are the most informative according to PCA. But we want to keep data easy to interpret, so let's choose other methods for dimensionality reduciton."
   ],
   "metadata": {
    "collapsed": false
   }
  },
  {
   "cell_type": "markdown",
   "source": [
    "Let's train some model with high predictive ability and choose the most important variables."
   ],
   "metadata": {
    "collapsed": false
   }
  },
  {
   "cell_type": "code",
   "execution_count": null,
   "outputs": [],
   "source": [
    "from catboost import CatBoostClassifier\n",
    "import numpy as np\n",
    "from sklearn.metrics import accuracy_score\n",
    "\n",
    "\n",
    "def rounded_accuracy_score(*args, n_digits=6, **kwargs):\n",
    "    if 'n_digits' in kwargs:\n",
    "        del kwargs['n_digits']\n",
    "    return round(accuracy_score(*args, **kwargs), n_digits)\n",
    "\n",
    "\n",
    "model = CatBoostClassifier()\n",
    "model.fit(X_train, y_train)\n",
    "\n",
    "y_pred_catboost = model.predict(X_validation)\n",
    "stupid_y_pred = np.zeros_like(y_validation)\n",
    "\n",
    "accuracy = rounded_accuracy_score(\n",
    "    y_true=y_validation,\n",
    "    y_pred=y_pred_catboost\n",
    ")\n",
    "baseline_accuracy = rounded_accuracy_score(\n",
    "    y_true=y_validation,\n",
    "    y_pred=stupid_y_pred\n",
    ")\n",
    "\n",
    "print(f'{accuracy=}, {baseline_accuracy=}')"
   ],
   "metadata": {
    "collapsed": false,
    "pycharm": {
     "is_executing": true
    }
   }
  },
  {
   "cell_type": "code",
   "execution_count": 9,
   "outputs": [
    {
     "name": "stdout",
     "output_type": "stream",
     "text": [
      "accuracy_score(y_test, y_pred_catboost)=0.9999892066918511\n"
     ]
    },
    {
     "data": {
      "text/plain": "array([[554256,      0],\n       [     6,   1638]])"
     },
     "execution_count": 9,
     "metadata": {},
     "output_type": "execute_result"
    }
   ],
   "source": [
    "y_pred_catboost = model.predict(X_test)\n",
    "stupid_y_pred = np.zeros_like(y_test)\n",
    "from sklearn.metrics import confusion_matrix\n",
    "\n",
    "print(f'{accuracy_score(y_test, y_pred_catboost)=}')\n",
    "confusion_matrix(y_test, y_pred_catboost)"
   ],
   "metadata": {
    "collapsed": false
   }
  },
  {
   "cell_type": "markdown",
   "source": [
    "As we can see, our model has very high accuracy, but it is not very informative, because baseline model which predict always false label demonstrates also very high accuracy. Let's try other metrics to deal with unbalanced classes."
   ],
   "metadata": {
    "collapsed": false
   }
  },
  {
   "cell_type": "code",
   "execution_count": 6,
   "outputs": [
    {
     "data": {
      "text/plain": "<Figure size 2000x900 with 1 Axes>",
      "image/png": "[encoded data removed]"
     },
     "metadata": {},
     "output_type": "display_data"
    }
   ],
   "source": [
    "from sklearn.metrics import RocCurveDisplay, precision_score, recall_score, matthews_corrcoef, confusion_matrix\n",
    "\n",
    "ax = plt.axes()\n",
    "RocCurveDisplay.from_predictions(\n",
    "    y_true=y_validation,\n",
    "    y_pred=y_pred_catboost,\n",
    "    name='catboost',\n",
    "    ax=ax\n",
    ")\n",
    "\n",
    "RocCurveDisplay.from_predictions(\n",
    "    y_true=y_validation,\n",
    "    y_pred=stupid_y_pred,\n",
    "    name='baseline',\n",
    "    color='orange',\n",
    "    ax=ax\n",
    ")\n",
    "\n",
    "plt.axis(\"square\")\n",
    "plt.xlabel(\"False Positive Rate\")\n",
    "plt.ylabel(\"True Positive Rate\")\n",
    "plt.legend()\n",
    "plt.show()"
   ],
   "metadata": {
    "collapsed": false
   }
  },
  {
   "cell_type": "code",
   "execution_count": 7,
   "outputs": [
    {
     "name": "stdout",
     "output_type": "stream",
     "text": [
      "accuracy_score:\n",
      "\tcatboost: 0.99999\n",
      "\talways_negative_model: 0.99696\n",
      "precision_score:\n",
      "\tcatboost: 1.0\n",
      "\talways_negative_model: 0.0\n",
      "recall_score:\n"
     ]
    },
    {
     "name": "stderr",
     "output_type": "stream",
     "text": [
      "/home/demidov-artem/PycharmProjects/CVTDM_Fraud_Prediction/venv/lib/python3.8/site-packages/sklearn/metrics/_classification.py:1344: UndefinedMetricWarning: Precision is ill-defined and being set to 0.0 due to no predicted samples. Use `zero_division` parameter to control this behavior.\n",
      "  _warn_prf(average, modifier, msg_start, len(result))\n"
     ]
    },
    {
     "name": "stdout",
     "output_type": "stream",
     "text": [
      "\tcatboost: 0.99683\n",
      "\talways_negative_model: 0.0\n",
      "matthews_corrcoef:\n",
      "\tcatboost: 0.99841\n",
      "\talways_negative_model: 0.0\n"
     ]
    }
   ],
   "source": [
    "rounder = lambda value, digits=5: round(value, digits)\n",
    "for metric_score in [accuracy_score, precision_score, recall_score, matthews_corrcoef]:\n",
    "    print(f'{metric_score.__name__}:')\n",
    "    for y_pred, model_name in zip([y_pred_catboost, stupid_y_pred], ['catboost', 'always_negative_model']):\n",
    "        metric_value = metric_score(\n",
    "            y_true=y_validation,\n",
    "            y_pred=y_pred\n",
    "        )\n",
    "        metric_value = rounder(metric_value)\n",
    "        print(f'\\t{model_name}: {metric_value}')\n"
   ],
   "metadata": {
    "collapsed": false
   }
  },
  {
   "cell_type": "markdown",
   "source": [
    "As we can see, all metrics, except accuracy, allowed to beat baseline model and demonstrate its failure"
   ],
   "metadata": {
    "collapsed": false
   }
  },
  {
   "cell_type": "code",
   "execution_count": 8,
   "outputs": [
    {
     "name": "stdout",
     "output_type": "stream",
     "text": [
      "confusion matrix:\n",
      "\tcatboost\n"
     ]
    },
    {
     "data": {
      "text/plain": "array([[827905,      0],\n       [     8,   2514]])"
     },
     "metadata": {},
     "output_type": "display_data"
    },
    {
     "data": {
      "text/plain": "array([[9.96973e-01, 0.00000e+00],\n       [1.00000e-05, 3.02700e-03]])"
     },
     "metadata": {},
     "output_type": "display_data"
    },
    {
     "name": "stdout",
     "output_type": "stream",
     "text": [
      "\talways_negative_model\n"
     ]
    },
    {
     "data": {
      "text/plain": "array([[827905,      0],\n       [  2522,      0]])"
     },
     "metadata": {},
     "output_type": "display_data"
    },
    {
     "data": {
      "text/plain": "array([[1.      , 0.      ],\n       [0.003046, 0.      ]])"
     },
     "metadata": {},
     "output_type": "display_data"
    }
   ],
   "source": [
    "from IPython.display import display\n",
    "\n",
    "print('confusion matrix:')\n",
    "for y_pred, model_name in zip([y_pred_catboost, stupid_y_pred], ['catboost', 'always_negative_model']):\n",
    "    metric_value = confusion_matrix(\n",
    "        y_true=y_validation,\n",
    "        y_pred=y_pred\n",
    "    )\n",
    "    print(f'\\t{model_name}')\n",
    "    display(metric_value)\n",
    "    display(np.round(metric_value / np.trace(metric_value), 6))"
   ],
   "metadata": {
    "collapsed": false
   }
  },
  {
   "cell_type": "code",
   "execution_count": 11,
   "outputs": [],
   "source": [
    "def get_importance_table(model, used_features=None):\n",
    "    if used_features is None:\n",
    "        used_features = X_validation.columns\n",
    "    importance = pd.DataFrame(model.get_feature_importance(), columns=['importance'])\n",
    "    importance['columns'] = used_features\n",
    "    importance = importance.sort_values(by='importance', ascending=False).reset_index(drop=True)\n",
    "    return importance\n"
   ],
   "metadata": {
    "collapsed": false
   }
  },
  {
   "cell_type": "code",
   "execution_count": 10,
   "outputs": [
    {
     "data": {
      "text/plain": "    importance                     columns\n0    15.650794                        step\n1     7.906781               oldbalanceOrg\n2     6.484236  amount_is_equal_to_balance\n3     5.339662              newbalanceDest\n4     5.214445              oldbalanceDest\n5     4.661854           std_oldbalanceOrg\n6     4.355724           max_oldbalanceOrg\n7     3.734070                        debt\n8     3.587980                      amount\n9     2.779926         mean_newbalanceOrig\n10    2.673486                  min_amount\n11    2.592309                    max_step\n12    2.516144        median_oldbalanceOrg\n13    2.464749          max_newbalanceOrig\n14    2.324878          std_oldbalanceDest\n15    2.312129                  std_amount\n16    2.105754                std_has_debt\n17    1.869336          min_newbalanceDest\n18    1.719715                 mean_amount\n19    1.508945                   mean_step\n20    1.438916              newbalanceOrig\n21    1.401877          std_newbalanceDest\n22    1.281454                  max_amount\n23    1.244227                    has_debt\n24    1.243904          max_newbalanceDest\n25    1.089854                 median_step\n26    1.034552               median_amount\n27    0.914344         mean_newbalanceDest\n28    0.900409               origins_count\n29    0.784354          std_newbalanceOrig\n30    0.720559                    std_step\n31    0.702260                    min_step\n32    0.660086       median_oldbalanceDest\n33    0.604534                   type_code\n34    0.571700             median_has_debt\n35    0.561200           min_oldbalanceOrg\n36    0.451085               type=TRANSFER\n37    0.396338               type=CASH_OUT\n38    0.391848       median_newbalanceDest\n39    0.338684               mean_has_debt\n40    0.314970       median_newbalanceOrig\n41    0.308457          mean_oldbalanceOrg\n42    0.294699         mean_oldbalanceDest\n43    0.210935          max_oldbalanceDest\n44    0.142071         amount_has_hundreds\n45    0.115388          min_oldbalanceDest\n46    0.039783          min_newbalanceOrig\n47    0.034312             amount_has_tens\n48    0.004282            amount_has_units\n49    0.000000                max_has_debt\n50    0.000000            amount_has_cents\n51    0.000000                min_has_debt\n52    0.000000                type=PAYMENT\n53    0.000000                type=CASH_IN\n54    0.000000    nameDestFirstLetter_code\n55    0.000000       nameDestFirstLetter=M\n56    0.000000      nameDestFirstLetterIsM",
      "text/html": "<div>\n<style scoped>\n    .dataframe tbody tr th:only-of-type {\n        vertical-align: middle;\n    }\n\n    .dataframe tbody tr th {\n        vertical-align: top;\n    }\n\n    .dataframe thead th {\n        text-align: right;\n    }\n</style>\n<table border=\"1\" class=\"dataframe\">\n  <thead>\n    <tr style=\"text-align: right;\">\n      <th></th>\n      <th>importance</th>\n      <th>columns</th>\n    </tr>\n  </thead>\n  <tbody>\n    <tr>\n      <th>0</th>\n      <td>15.650794</td>\n      <td>step</td>\n    </tr>\n    <tr>\n      <th>1</th>\n      <td>7.906781</td>\n      <td>oldbalanceOrg</td>\n    </tr>\n    <tr>\n      <th>2</th>\n      <td>6.484236</td>\n      <td>amount_is_equal_to_balance</td>\n    </tr>\n    <tr>\n      <th>3</th>\n      <td>5.339662</td>\n      <td>newbalanceDest</td>\n    </tr>\n    <tr>\n      <th>4</th>\n      <td>5.214445</td>\n      <td>oldbalanceDest</td>\n    </tr>\n    <tr>\n      <th>5</th>\n      <td>4.661854</td>\n      <td>std_oldbalanceOrg</td>\n    </tr>\n    <tr>\n      <th>6</th>\n      <td>4.355724</td>\n      <td>max_oldbalanceOrg</td>\n    </tr>\n    <tr>\n      <th>7</th>\n      <td>3.734070</td>\n      <td>debt</td>\n    </tr>\n    <tr>\n      <th>8</th>\n      <td>3.587980</td>\n      <td>amount</td>\n    </tr>\n    <tr>\n      <th>9</th>\n      <td>2.779926</td>\n      <td>mean_newbalanceOrig</td>\n    </tr>\n    <tr>\n      <th>10</th>\n      <td>2.673486</td>\n      <td>min_amount</td>\n    </tr>\n    <tr>\n      <th>11</th>\n      <td>2.592309</td>\n      <td>max_step</td>\n    </tr>\n    <tr>\n      <th>12</th>\n      <td>2.516144</td>\n      <td>median_oldbalanceOrg</td>\n    </tr>\n    <tr>\n      <th>13</th>\n      <td>2.464749</td>\n      <td>max_newbalanceOrig</td>\n    </tr>\n    <tr>\n      <th>14</th>\n      <td>2.324878</td>\n      <td>std_oldbalanceDest</td>\n    </tr>\n    <tr>\n      <th>15</th>\n      <td>2.312129</td>\n      <td>std_amount</td>\n    </tr>\n    <tr>\n      <th>16</th>\n      <td>2.105754</td>\n      <td>std_has_debt</td>\n    </tr>\n    <tr>\n      <th>17</th>\n      <td>1.869336</td>\n      <td>min_newbalanceDest</td>\n    </tr>\n    <tr>\n      <th>18</th>\n      <td>1.719715</td>\n      <td>mean_amount</td>\n    </tr>\n    <tr>\n      <th>19</th>\n      <td>1.508945</td>\n      <td>mean_step</td>\n    </tr>\n    <tr>\n      <th>20</th>\n      <td>1.438916</td>\n      <td>newbalanceOrig</td>\n    </tr>\n    <tr>\n      <th>21</th>\n      <td>1.401877</td>\n      <td>std_newbalanceDest</td>\n    </tr>\n    <tr>\n      <th>22</th>\n      <td>1.281454</td>\n      <td>max_amount</td>\n    </tr>\n    <tr>\n      <th>23</th>\n      <td>1.244227</td>\n      <td>has_debt</td>\n    </tr>\n    <tr>\n      <th>24</th>\n      <td>1.243904</td>\n      <td>max_newbalanceDest</td>\n    </tr>\n    <tr>\n      <th>25</th>\n      <td>1.089854</td>\n      <td>median_step</td>\n    </tr>\n    <tr>\n      <th>26</th>\n      <td>1.034552</td>\n      <td>median_amount</td>\n    </tr>\n    <tr>\n      <th>27</th>\n      <td>0.914344</td>\n      <td>mean_newbalanceDest</td>\n    </tr>\n    <tr>\n      <th>28</th>\n      <td>0.900409</td>\n      <td>origins_count</td>\n    </tr>\n    <tr>\n      <th>29</th>\n      <td>0.784354</td>\n      <td>std_newbalanceOrig</td>\n    </tr>\n    <tr>\n      <th>30</th>\n      <td>0.720559</td>\n      <td>std_step</td>\n    </tr>\n    <tr>\n      <th>31</th>\n      <td>0.702260</td>\n      <td>min_step</td>\n    </tr>\n    <tr>\n      <th>32</th>\n      <td>0.660086</td>\n      <td>median_oldbalanceDest</td>\n    </tr>\n    <tr>\n      <th>33</th>\n      <td>0.604534</td>\n      <td>type_code</td>\n    </tr>\n    <tr>\n      <th>34</th>\n      <td>0.571700</td>\n      <td>median_has_debt</td>\n    </tr>\n    <tr>\n      <th>35</th>\n      <td>0.561200</td>\n      <td>min_oldbalanceOrg</td>\n    </tr>\n    <tr>\n      <th>36</th>\n      <td>0.451085</td>\n      <td>type=TRANSFER</td>\n    </tr>\n    <tr>\n      <th>37</th>\n      <td>0.396338</td>\n      <td>type=CASH_OUT</td>\n    </tr>\n    <tr>\n      <th>38</th>\n      <td>0.391848</td>\n      <td>median_newbalanceDest</td>\n    </tr>\n    <tr>\n      <th>39</th>\n      <td>0.338684</td>\n      <td>mean_has_debt</td>\n    </tr>\n    <tr>\n      <th>40</th>\n      <td>0.314970</td>\n      <td>median_newbalanceOrig</td>\n    </tr>\n    <tr>\n      <th>41</th>\n      <td>0.308457</td>\n      <td>mean_oldbalanceOrg</td>\n    </tr>\n    <tr>\n      <th>42</th>\n      <td>0.294699</td>\n      <td>mean_oldbalanceDest</td>\n    </tr>\n    <tr>\n      <th>43</th>\n      <td>0.210935</td>\n      <td>max_oldbalanceDest</td>\n    </tr>\n    <tr>\n      <th>44</th>\n      <td>0.142071</td>\n      <td>amount_has_hundreds</td>\n    </tr>\n    <tr>\n      <th>45</th>\n      <td>0.115388</td>\n      <td>min_oldbalanceDest</td>\n    </tr>\n    <tr>\n      <th>46</th>\n      <td>0.039783</td>\n      <td>min_newbalanceOrig</td>\n    </tr>\n    <tr>\n      <th>47</th>\n      <td>0.034312</td>\n      <td>amount_has_tens</td>\n    </tr>\n    <tr>\n      <th>48</th>\n      <td>0.004282</td>\n      <td>amount_has_units</td>\n    </tr>\n    <tr>\n      <th>49</th>\n      <td>0.000000</td>\n      <td>max_has_debt</td>\n    </tr>\n    <tr>\n      <th>50</th>\n      <td>0.000000</td>\n      <td>amount_has_cents</td>\n    </tr>\n    <tr>\n      <th>51</th>\n      <td>0.000000</td>\n      <td>min_has_debt</td>\n    </tr>\n    <tr>\n      <th>52</th>\n      <td>0.000000</td>\n      <td>type=PAYMENT</td>\n    </tr>\n    <tr>\n      <th>53</th>\n      <td>0.000000</td>\n      <td>type=CASH_IN</td>\n    </tr>\n    <tr>\n      <th>54</th>\n      <td>0.000000</td>\n      <td>nameDestFirstLetter_code</td>\n    </tr>\n    <tr>\n      <th>55</th>\n      <td>0.000000</td>\n      <td>nameDestFirstLetter=M</td>\n    </tr>\n    <tr>\n      <th>56</th>\n      <td>0.000000</td>\n      <td>nameDestFirstLetterIsM</td>\n    </tr>\n  </tbody>\n</table>\n</div>"
     },
     "execution_count": 10,
     "metadata": {},
     "output_type": "execute_result"
    }
   ],
   "source": [
    "importance = get_importance_table(model)\n",
    "importance"
   ],
   "metadata": {
    "collapsed": false
   }
  },
  {
   "cell_type": "code",
   "execution_count": 11,
   "outputs": [],
   "source": [
    "top_features = importance.head(20)['columns'].tolist()"
   ],
   "metadata": {
    "collapsed": false
   }
  },
  {
   "cell_type": "code",
   "execution_count": null,
   "outputs": [],
   "source": [
    "model_20 = CatBoostClassifier()\n",
    "model_20.fit(X_train[top_features], y_train)\n",
    "\n",
    "y_pred_catboost = model_20.predict(X_validation[top_features])\n",
    "stupid_y_pred = np.zeros_like(y_validation)\n",
    "\n",
    "accuracy = rounded_accuracy_score(\n",
    "    y_true=y_validation,\n",
    "    y_pred=y_pred_catboost\n",
    ")\n",
    "baseline_accuracy = rounded_accuracy_score(\n",
    "    y_true=y_validation,\n",
    "    y_pred=stupid_y_pred\n",
    ")"
   ],
   "metadata": {
    "collapsed": false,
    "pycharm": {
     "is_executing": true
    }
   }
  },
  {
   "cell_type": "code",
   "execution_count": 11,
   "outputs": [
    {
     "name": "stdout",
     "output_type": "stream",
     "text": [
      "accuracy=0.99999, baseline_accuracy=0.996963\n"
     ]
    }
   ],
   "source": [
    "print(f'{accuracy=}, {baseline_accuracy=}')"
   ],
   "metadata": {
    "collapsed": false
   }
  },
  {
   "cell_type": "markdown",
   "source": [
    "As we can see, our model kept the same accuracy."
   ],
   "metadata": {
    "collapsed": false
   }
  },
  {
   "cell_type": "code",
   "execution_count": 15,
   "outputs": [
    {
     "data": {
      "text/plain": "    importance                     columns\n0    10.115498                        step\n1     8.548715               oldbalanceOrg\n2     7.887570              oldbalanceDest\n3     6.966856              newbalanceDest\n4     6.626446          std_oldbalanceDest\n5     6.299706           std_oldbalanceOrg\n6     6.116315                  std_amount\n7     5.947774  amount_is_equal_to_balance\n8     4.911319                  min_amount\n9     4.712226                        debt\n10    4.505376         mean_newbalanceOrig\n11    4.128431                   mean_step\n12    4.058925        median_oldbalanceOrg\n13    4.036799                      amount\n14    3.580863                    max_step\n15    2.884939           max_oldbalanceOrg\n16    2.721928                std_has_debt\n17    2.340571                 mean_amount\n18    2.051174          max_newbalanceOrig\n19    1.558569          min_newbalanceDest",
      "text/html": "<div>\n<style scoped>\n    .dataframe tbody tr th:only-of-type {\n        vertical-align: middle;\n    }\n\n    .dataframe tbody tr th {\n        vertical-align: top;\n    }\n\n    .dataframe thead th {\n        text-align: right;\n    }\n</style>\n<table border=\"1\" class=\"dataframe\">\n  <thead>\n    <tr style=\"text-align: right;\">\n      <th></th>\n      <th>importance</th>\n      <th>columns</th>\n    </tr>\n  </thead>\n  <tbody>\n    <tr>\n      <th>0</th>\n      <td>10.115498</td>\n      <td>step</td>\n    </tr>\n    <tr>\n      <th>1</th>\n      <td>8.548715</td>\n      <td>oldbalanceOrg</td>\n    </tr>\n    <tr>\n      <th>2</th>\n      <td>7.887570</td>\n      <td>oldbalanceDest</td>\n    </tr>\n    <tr>\n      <th>3</th>\n      <td>6.966856</td>\n      <td>newbalanceDest</td>\n    </tr>\n    <tr>\n      <th>4</th>\n      <td>6.626446</td>\n      <td>std_oldbalanceDest</td>\n    </tr>\n    <tr>\n      <th>5</th>\n      <td>6.299706</td>\n      <td>std_oldbalanceOrg</td>\n    </tr>\n    <tr>\n      <th>6</th>\n      <td>6.116315</td>\n      <td>std_amount</td>\n    </tr>\n    <tr>\n      <th>7</th>\n      <td>5.947774</td>\n      <td>amount_is_equal_to_balance</td>\n    </tr>\n    <tr>\n      <th>8</th>\n      <td>4.911319</td>\n      <td>min_amount</td>\n    </tr>\n    <tr>\n      <th>9</th>\n      <td>4.712226</td>\n      <td>debt</td>\n    </tr>\n    <tr>\n      <th>10</th>\n      <td>4.505376</td>\n      <td>mean_newbalanceOrig</td>\n    </tr>\n    <tr>\n      <th>11</th>\n      <td>4.128431</td>\n      <td>mean_step</td>\n    </tr>\n    <tr>\n      <th>12</th>\n      <td>4.058925</td>\n      <td>median_oldbalanceOrg</td>\n    </tr>\n    <tr>\n      <th>13</th>\n      <td>4.036799</td>\n      <td>amount</td>\n    </tr>\n    <tr>\n      <th>14</th>\n      <td>3.580863</td>\n      <td>max_step</td>\n    </tr>\n    <tr>\n      <th>15</th>\n      <td>2.884939</td>\n      <td>max_oldbalanceOrg</td>\n    </tr>\n    <tr>\n      <th>16</th>\n      <td>2.721928</td>\n      <td>std_has_debt</td>\n    </tr>\n    <tr>\n      <th>17</th>\n      <td>2.340571</td>\n      <td>mean_amount</td>\n    </tr>\n    <tr>\n      <th>18</th>\n      <td>2.051174</td>\n      <td>max_newbalanceOrig</td>\n    </tr>\n    <tr>\n      <th>19</th>\n      <td>1.558569</td>\n      <td>min_newbalanceDest</td>\n    </tr>\n  </tbody>\n</table>\n</div>"
     },
     "execution_count": 15,
     "metadata": {},
     "output_type": "execute_result"
    }
   ],
   "source": [
    "importance = get_importance_table(model_20, top_features)\n",
    "importance"
   ],
   "metadata": {
    "collapsed": false
   }
  },
  {
   "cell_type": "markdown",
   "source": [
    "Let's choose top-10 most important features and try test model again"
   ],
   "metadata": {
    "collapsed": false
   }
  },
  {
   "cell_type": "code",
   "execution_count": 16,
   "outputs": [],
   "source": [
    "top_10_features = importance.head(10)['columns'].tolist()"
   ],
   "metadata": {
    "collapsed": false
   }
  },
  {
   "cell_type": "code",
   "execution_count": null,
   "outputs": [],
   "source": [
    "model_10 = CatBoostClassifier()\n",
    "model_10.fit(X_train[top_10_features], y_train)\n",
    "\n",
    "y_pred_catboost = model_10.predict(X_validation[top_10_features])\n",
    "stupid_y_pred = np.zeros_like(y_validation)\n",
    "\n",
    "accuracy = rounded_accuracy_score(\n",
    "    y_true=y_validation,\n",
    "    y_pred=y_pred_catboost\n",
    ")\n",
    "baseline_accuracy = rounded_accuracy_score(\n",
    "    y_true=y_validation,\n",
    "    y_pred=stupid_y_pred\n",
    ")\n",
    "\n",
    "print(f'{accuracy=}, {baseline_accuracy=}')"
   ],
   "metadata": {
    "collapsed": false,
    "pycharm": {
     "is_executing": true
    }
   }
  },
  {
   "cell_type": "code",
   "execution_count": 12,
   "outputs": [
    {
     "name": "stdout",
     "output_type": "stream",
     "text": [
      "accuracy=0.99999, baseline_accuracy=0.996963\n"
     ]
    }
   ],
   "source": [
    "print(f'{accuracy=}, {baseline_accuracy=}')"
   ],
   "metadata": {
    "collapsed": false
   }
  },
  {
   "cell_type": "markdown",
   "source": [
    "Accuracy is still very high, let's use backward elimination to find minimum possible number of values."
   ],
   "metadata": {
    "collapsed": false
   }
  },
  {
   "cell_type": "code",
   "execution_count": 29,
   "outputs": [
    {
     "data": {
      "text/plain": "['step',\n 'oldbalanceOrg',\n 'oldbalanceDest',\n 'newbalanceDest',\n 'std_oldbalanceDest',\n 'std_oldbalanceOrg',\n 'std_amount',\n 'amount_is_equal_to_balance',\n 'min_amount',\n 'debt']"
     },
     "execution_count": 29,
     "metadata": {},
     "output_type": "execute_result"
    }
   ],
   "source": [
    "top_10_features"
   ],
   "metadata": {
    "collapsed": false
   }
  },
  {
   "cell_type": "code",
   "execution_count": 31,
   "outputs": [
    {
     "name": "stderr",
     "output_type": "stream",
     "text": [
      "100%|██████████| 9/9 [11:34<00:00, 77.20s/it]\n"
     ]
    }
   ],
   "source": [
    "from tqdm import trange\n",
    "\n",
    "start_accuracy = accuracy\n",
    "top_features = top_10_features\n",
    "\n",
    "accuracies = [accuracy]\n",
    "top_features_list = [top_features]\n",
    "\n",
    "model_x = model_10\n",
    "\n",
    "for i in trange(9):\n",
    "    top_features = get_importance_table(model_x, top_features)['columns'].tolist()[:-1]\n",
    "    top_features_list.append(top_features)\n",
    "    model_x = CatBoostClassifier(logging_level='Silent')\n",
    "    model_x.fit(X_train[top_features], y_train)\n",
    "\n",
    "    y_pred_catboost = model_x.predict(X_validation[top_features])\n",
    "\n",
    "    accuracy = accuracy_score(\n",
    "        y_true=y_validation,\n",
    "        y_pred=y_pred_catboost\n",
    "    )\n",
    "    accuracies.append(accuracy)\n"
   ],
   "metadata": {
    "collapsed": false
   }
  },
  {
   "cell_type": "code",
   "execution_count": null,
   "outputs": [],
   "source": [
    "accuracies = accuracies[::-1]"
   ],
   "metadata": {
    "collapsed": false
   }
  },
  {
   "cell_type": "code",
   "execution_count": 42,
   "outputs": [
    {
     "data": {
      "text/plain": "<Figure size 2000x900 with 1 Axes>",
      "image/png": "[encoded data removed]"
     },
     "metadata": {},
     "output_type": "display_data"
    }
   ],
   "source": [
    "plt.plot(range(1, len(accuracies) + 1), accuracies, label='catboost')\n",
    "plt.plot(range(1, len(accuracies) + 1), [baseline_accuracy] * len(accuracies), label='always negative')\n",
    "plt.grid()\n",
    "plt.title('Accuracy for different number of features')\n",
    "plt.ylabel('accuracy')\n",
    "plt.xlabel('n features')\n",
    "plt.legend()\n",
    "plt.show()"
   ],
   "metadata": {
    "collapsed": false
   }
  },
  {
   "cell_type": "code",
   "execution_count": 35,
   "outputs": [
    {
     "data": {
      "text/plain": "0.9999903664018631"
     },
     "execution_count": 35,
     "metadata": {},
     "output_type": "execute_result"
    }
   ],
   "source": [
    "accuracies[7]"
   ],
   "metadata": {
    "collapsed": false
   }
  },
  {
   "cell_type": "code",
   "execution_count": 38,
   "outputs": [
    {
     "data": {
      "text/plain": "['oldbalanceOrg',\n 'step',\n 'std_amount',\n 'std_oldbalanceOrg',\n 'std_oldbalanceDest',\n 'amount_is_equal_to_balance',\n 'newbalanceDest',\n 'debt']"
     },
     "execution_count": 38,
     "metadata": {},
     "output_type": "execute_result"
    }
   ],
   "source": [
    "top_features_list[2]"
   ],
   "metadata": {
    "collapsed": false
   }
  },
  {
   "cell_type": "code",
   "execution_count": 17,
   "outputs": [
    {
     "name": "stdout",
     "output_type": "stream",
     "text": [
      "0.0005362399048611133, 7.225005454847278e-06, 0.0005703419306081426, 4.479503382004424e-06, 0.00022498666986492388, 0.004897253197426133, 4.046003054729575e-05, -0.00011603358760536864, \n",
      "\"oldbalanceOrg\", \"step\", \"std_amount\", \"std_oldbalanceOrg\", \"std_oldbalanceDest\", \"amount_is_equal_to_balance\", \"newbalanceDest\", \"debt\", \n"
     ]
    }
   ],
   "source": [
    "naive_importances = {'oldbalanceOrg': 0.0005362399048611133,\n",
    "                     'step': 7.225005454847278e-06,\n",
    "                     'std_amount': 0.0005703419306081426,\n",
    "                     'std_oldbalanceOrg': 4.479503382004424e-06,\n",
    "                     'std_oldbalanceDest': 0.00022498666986492388,\n",
    "                     'amount_is_equal_to_balance': 0.004897253197426133,\n",
    "                     'newbalanceDest': 4.046003054729575e-05,\n",
    "                     'debt': -0.00011603358760536864}\n",
    "\n",
    "for value in naive_importances.values():\n",
    "    print(value, end=', ')\n",
    "print()\n",
    "for key in naive_importances:\n",
    "    print(f'\"{key}\"', end=', ')\n",
    "\n",
    "print()"
   ],
   "metadata": {
    "collapsed": false
   }
  }
 ],
 "metadata": {
  "kernelspec": {
   "display_name": "Python 3",
   "language": "python",
   "name": "python3"
  },
  "language_info": {
   "codemirror_mode": {
    "name": "ipython",
    "version": 2
   },
   "file_extension": ".py",
   "mimetype": "text/x-python",
   "name": "python",
   "nbconvert_exporter": "python",
   "pygments_lexer": "ipython2",
   "version": "2.7.6"
  }
 },
 "nbformat": 4,
 "nbformat_minor": 0
}
