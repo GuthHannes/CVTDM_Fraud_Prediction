{
 "cells": [
  {
   "cell_type": "markdown",
   "source": [
    "# Standardization"
   ],
   "metadata": {
    "collapsed": false
   }
  },
  {
   "cell_type": "code",
   "execution_count": 1,
   "outputs": [],
   "source": [
    "import pandas as pd\n",
    "from matplotlib import pyplot as plt\n",
    "from sklearn.model_selection import train_test_split\n",
    "\n",
    "plt.rcParams[\"figure.figsize\"] = (20, 9)\n",
    "pd.set_option('display.max_columns', 500)"
   ],
   "metadata": {
    "collapsed": false
   }
  },
  {
   "cell_type": "code",
   "execution_count": 2,
   "outputs": [
    {
     "data": {
      "text/plain": "   step     amount  oldbalanceOrg  newbalanceOrig     nameDest  \\\n0     1    9839.64      170136.00       160296.36  M1979787155   \n1     1    1864.28       21249.00        19384.72  M2044282225   \n2     1     181.00         181.00            0.00   C553264065   \n3     6  109985.65       41851.00            0.00   C553264065   \n4     7   10256.20     3766080.24      3776336.45   C553264065   \n\n   oldbalanceDest  newbalanceDest  isFraud  has_debt      debt  origins_count  \\\n0            0.00            0.00        0     False     -0.00              1   \n1            0.00            0.00        0     False     -0.00              1   \n2            0.00            0.00        1     False      0.00             44   \n3            0.00       109985.65        0      True  68134.65             44   \n4       109985.65        99729.44        0     False     -0.00             44   \n\n   min_amount  max_amount     std_amount  median_amount    mean_amount  \\\n0     9839.64     9839.64       0.000000       9839.640    9839.640000   \n1     1864.28     1864.28       0.000000       1864.280    1864.280000   \n2      181.00  1447322.21  252655.757617     139366.105  225517.832045   \n3      181.00  1447322.21  252655.757617     139366.105  225517.832045   \n4      181.00  1447322.21  252655.757617     139366.105  225517.832045   \n\n   min_oldbalanceOrg  max_oldbalanceOrg  std_oldbalanceOrg  \\\n0           170136.0          170136.00       0.000000e+00   \n1            21249.0           21249.00       0.000000e+00   \n2                0.0        21782433.66       5.109399e+06   \n3                0.0        21782433.66       5.109399e+06   \n4                0.0        21782433.66       5.109399e+06   \n\n   median_oldbalanceOrg  mean_oldbalanceOrg  min_newbalanceOrig  \\\n0              170136.0        1.701360e+05           160296.36   \n1               21249.0        2.124900e+04            19384.72   \n2               10170.5        1.915190e+06                0.00   \n3               10170.5        1.915190e+06                0.00   \n4               10170.5        1.915190e+06                0.00   \n\n   max_newbalanceOrig  std_newbalanceOrig  median_newbalanceOrig  \\\n0           160296.36        0.000000e+00              160296.36   \n1            19384.72        0.000000e+00               19384.72   \n2         22012047.86        5.160588e+06                   0.00   \n3         22012047.86        5.160588e+06                   0.00   \n4         22012047.86        5.160588e+06                   0.00   \n\n   mean_newbalanceOrig  min_oldbalanceDest  max_oldbalanceDest  \\\n0         1.602964e+05                 0.0                0.00   \n1         1.938472e+04                 0.0                0.00   \n2         1.971241e+06                 0.0          4115621.95   \n3         1.971241e+06                 0.0          4115621.95   \n4         1.971241e+06                 0.0          4115621.95   \n\n   std_oldbalanceDest  median_oldbalanceDest  mean_oldbalanceDest  \\\n0        0.000000e+00                   0.00         0.000000e+00   \n1        0.000000e+00                   0.00         0.000000e+00   \n2        1.311491e+06             2820318.13         2.455461e+06   \n3        1.311491e+06             2820318.13         2.455461e+06   \n4        1.311491e+06             2820318.13         2.455461e+06   \n\n   min_newbalanceDest  max_newbalanceDest  std_newbalanceDest  \\\n0                 0.0                0.00        0.000000e+00   \n1                 0.0                0.00        0.000000e+00   \n2                 0.0          4115621.95        1.279824e+06   \n3                 0.0          4115621.95        1.279824e+06   \n4                 0.0          4115621.95        1.279824e+06   \n\n   median_newbalanceDest  mean_newbalanceDest  min_step  max_step    std_step  \\\n0                   0.00         0.000000e+00         1         1    0.000000   \n1                   0.00         0.000000e+00         1         1    0.000000   \n2             2820318.13         2.534052e+06         1       400  130.627992   \n3             2820318.13         2.534052e+06         1       400  130.627992   \n4             2820318.13         2.534052e+06         1       400  130.627992   \n\n   median_step   mean_step  min_has_debt  max_has_debt  std_has_debt  \\\n0          1.0    1.000000         False         False      0.000000   \n1          1.0    1.000000         False         False      0.000000   \n2         41.5  118.954545         False          True      0.461522   \n3         41.5  118.954545         False          True      0.461522   \n4         41.5  118.954545         False          True      0.461522   \n\n   median_has_debt  mean_has_debt nameDestFirstLetter  amount_has_cents  \\\n0              0.0       0.000000                   M              True   \n1              0.0       0.000000                   M              True   \n2              1.0       0.704545                   C             False   \n3              1.0       0.704545                   C              True   \n4              1.0       0.704545                   C              True   \n\n   amount_has_units  amount_has_tens  amount_has_hundreds  \\\n0              True             True                 True   \n1              True             True                 True   \n2              True             True                 True   \n3              True             True                 True   \n4              True             True                 True   \n\n   amount_is_equal_to_balance  type_code  type=PAYMENT  type=TRANSFER  \\\n0                       False          3          True          False   \n1                       False          3          True          False   \n2                        True          4         False           True   \n3                       False          4         False           True   \n4                       False          0         False          False   \n\n   type=CASH_IN  type=CASH_OUT  nameDestFirstLetter_code  \\\n0         False          False                         1   \n1         False          False                         1   \n2         False          False                         0   \n3         False          False                         0   \n4          True          False                         0   \n\n   nameDestFirstLetter=M  \n0                   True  \n1                   True  \n2                  False  \n3                  False  \n4                  False  ",
      "text/html": "<div>\n<style scoped>\n    .dataframe tbody tr th:only-of-type {\n        vertical-align: middle;\n    }\n\n    .dataframe tbody tr th {\n        vertical-align: top;\n    }\n\n    .dataframe thead th {\n        text-align: right;\n    }\n</style>\n<table border=\"1\" class=\"dataframe\">\n  <thead>\n    <tr style=\"text-align: right;\">\n      <th></th>\n      <th>step</th>\n      <th>amount</th>\n      <th>oldbalanceOrg</th>\n      <th>newbalanceOrig</th>\n      <th>nameDest</th>\n      <th>oldbalanceDest</th>\n      <th>newbalanceDest</th>\n      <th>isFraud</th>\n      <th>has_debt</th>\n      <th>debt</th>\n      <th>origins_count</th>\n      <th>min_amount</th>\n      <th>max_amount</th>\n      <th>std_amount</th>\n      <th>median_amount</th>\n      <th>mean_amount</th>\n      <th>min_oldbalanceOrg</th>\n      <th>max_oldbalanceOrg</th>\n      <th>std_oldbalanceOrg</th>\n      <th>median_oldbalanceOrg</th>\n      <th>mean_oldbalanceOrg</th>\n      <th>min_newbalanceOrig</th>\n      <th>max_newbalanceOrig</th>\n      <th>std_newbalanceOrig</th>\n      <th>median_newbalanceOrig</th>\n      <th>mean_newbalanceOrig</th>\n      <th>min_oldbalanceDest</th>\n      <th>max_oldbalanceDest</th>\n      <th>std_oldbalanceDest</th>\n      <th>median_oldbalanceDest</th>\n      <th>mean_oldbalanceDest</th>\n      <th>min_newbalanceDest</th>\n      <th>max_newbalanceDest</th>\n      <th>std_newbalanceDest</th>\n      <th>median_newbalanceDest</th>\n      <th>mean_newbalanceDest</th>\n      <th>min_step</th>\n      <th>max_step</th>\n      <th>std_step</th>\n      <th>median_step</th>\n      <th>mean_step</th>\n      <th>min_has_debt</th>\n      <th>max_has_debt</th>\n      <th>std_has_debt</th>\n      <th>median_has_debt</th>\n      <th>mean_has_debt</th>\n      <th>nameDestFirstLetter</th>\n      <th>amount_has_cents</th>\n      <th>amount_has_units</th>\n      <th>amount_has_tens</th>\n      <th>amount_has_hundreds</th>\n      <th>amount_is_equal_to_balance</th>\n      <th>type_code</th>\n      <th>type=PAYMENT</th>\n      <th>type=TRANSFER</th>\n      <th>type=CASH_IN</th>\n      <th>type=CASH_OUT</th>\n      <th>nameDestFirstLetter_code</th>\n      <th>nameDestFirstLetter=M</th>\n    </tr>\n  </thead>\n  <tbody>\n    <tr>\n      <th>0</th>\n      <td>1</td>\n      <td>9839.64</td>\n      <td>170136.00</td>\n      <td>160296.36</td>\n      <td>M1979787155</td>\n      <td>0.00</td>\n      <td>0.00</td>\n      <td>0</td>\n      <td>False</td>\n      <td>-0.00</td>\n      <td>1</td>\n      <td>9839.64</td>\n      <td>9839.64</td>\n      <td>0.000000</td>\n      <td>9839.640</td>\n      <td>9839.640000</td>\n      <td>170136.0</td>\n      <td>170136.00</td>\n      <td>0.000000e+00</td>\n      <td>170136.0</td>\n      <td>1.701360e+05</td>\n      <td>160296.36</td>\n      <td>160296.36</td>\n      <td>0.000000e+00</td>\n      <td>160296.36</td>\n      <td>1.602964e+05</td>\n      <td>0.0</td>\n      <td>0.00</td>\n      <td>0.000000e+00</td>\n      <td>0.00</td>\n      <td>0.000000e+00</td>\n      <td>0.0</td>\n      <td>0.00</td>\n      <td>0.000000e+00</td>\n      <td>0.00</td>\n      <td>0.000000e+00</td>\n      <td>1</td>\n      <td>1</td>\n      <td>0.000000</td>\n      <td>1.0</td>\n      <td>1.000000</td>\n      <td>False</td>\n      <td>False</td>\n      <td>0.000000</td>\n      <td>0.0</td>\n      <td>0.000000</td>\n      <td>M</td>\n      <td>True</td>\n      <td>True</td>\n      <td>True</td>\n      <td>True</td>\n      <td>False</td>\n      <td>3</td>\n      <td>True</td>\n      <td>False</td>\n      <td>False</td>\n      <td>False</td>\n      <td>1</td>\n      <td>True</td>\n    </tr>\n    <tr>\n      <th>1</th>\n      <td>1</td>\n      <td>1864.28</td>\n      <td>21249.00</td>\n      <td>19384.72</td>\n      <td>M2044282225</td>\n      <td>0.00</td>\n      <td>0.00</td>\n      <td>0</td>\n      <td>False</td>\n      <td>-0.00</td>\n      <td>1</td>\n      <td>1864.28</td>\n      <td>1864.28</td>\n      <td>0.000000</td>\n      <td>1864.280</td>\n      <td>1864.280000</td>\n      <td>21249.0</td>\n      <td>21249.00</td>\n      <td>0.000000e+00</td>\n      <td>21249.0</td>\n      <td>2.124900e+04</td>\n      <td>19384.72</td>\n      <td>19384.72</td>\n      <td>0.000000e+00</td>\n      <td>19384.72</td>\n      <td>1.938472e+04</td>\n      <td>0.0</td>\n      <td>0.00</td>\n      <td>0.000000e+00</td>\n      <td>0.00</td>\n      <td>0.000000e+00</td>\n      <td>0.0</td>\n      <td>0.00</td>\n      <td>0.000000e+00</td>\n      <td>0.00</td>\n      <td>0.000000e+00</td>\n      <td>1</td>\n      <td>1</td>\n      <td>0.000000</td>\n      <td>1.0</td>\n      <td>1.000000</td>\n      <td>False</td>\n      <td>False</td>\n      <td>0.000000</td>\n      <td>0.0</td>\n      <td>0.000000</td>\n      <td>M</td>\n      <td>True</td>\n      <td>True</td>\n      <td>True</td>\n      <td>True</td>\n      <td>False</td>\n      <td>3</td>\n      <td>True</td>\n      <td>False</td>\n      <td>False</td>\n      <td>False</td>\n      <td>1</td>\n      <td>True</td>\n    </tr>\n    <tr>\n      <th>2</th>\n      <td>1</td>\n      <td>181.00</td>\n      <td>181.00</td>\n      <td>0.00</td>\n      <td>C553264065</td>\n      <td>0.00</td>\n      <td>0.00</td>\n      <td>1</td>\n      <td>False</td>\n      <td>0.00</td>\n      <td>44</td>\n      <td>181.00</td>\n      <td>1447322.21</td>\n      <td>252655.757617</td>\n      <td>139366.105</td>\n      <td>225517.832045</td>\n      <td>0.0</td>\n      <td>21782433.66</td>\n      <td>5.109399e+06</td>\n      <td>10170.5</td>\n      <td>1.915190e+06</td>\n      <td>0.00</td>\n      <td>22012047.86</td>\n      <td>5.160588e+06</td>\n      <td>0.00</td>\n      <td>1.971241e+06</td>\n      <td>0.0</td>\n      <td>4115621.95</td>\n      <td>1.311491e+06</td>\n      <td>2820318.13</td>\n      <td>2.455461e+06</td>\n      <td>0.0</td>\n      <td>4115621.95</td>\n      <td>1.279824e+06</td>\n      <td>2820318.13</td>\n      <td>2.534052e+06</td>\n      <td>1</td>\n      <td>400</td>\n      <td>130.627992</td>\n      <td>41.5</td>\n      <td>118.954545</td>\n      <td>False</td>\n      <td>True</td>\n      <td>0.461522</td>\n      <td>1.0</td>\n      <td>0.704545</td>\n      <td>C</td>\n      <td>False</td>\n      <td>True</td>\n      <td>True</td>\n      <td>True</td>\n      <td>True</td>\n      <td>4</td>\n      <td>False</td>\n      <td>True</td>\n      <td>False</td>\n      <td>False</td>\n      <td>0</td>\n      <td>False</td>\n    </tr>\n    <tr>\n      <th>3</th>\n      <td>6</td>\n      <td>109985.65</td>\n      <td>41851.00</td>\n      <td>0.00</td>\n      <td>C553264065</td>\n      <td>0.00</td>\n      <td>109985.65</td>\n      <td>0</td>\n      <td>True</td>\n      <td>68134.65</td>\n      <td>44</td>\n      <td>181.00</td>\n      <td>1447322.21</td>\n      <td>252655.757617</td>\n      <td>139366.105</td>\n      <td>225517.832045</td>\n      <td>0.0</td>\n      <td>21782433.66</td>\n      <td>5.109399e+06</td>\n      <td>10170.5</td>\n      <td>1.915190e+06</td>\n      <td>0.00</td>\n      <td>22012047.86</td>\n      <td>5.160588e+06</td>\n      <td>0.00</td>\n      <td>1.971241e+06</td>\n      <td>0.0</td>\n      <td>4115621.95</td>\n      <td>1.311491e+06</td>\n      <td>2820318.13</td>\n      <td>2.455461e+06</td>\n      <td>0.0</td>\n      <td>4115621.95</td>\n      <td>1.279824e+06</td>\n      <td>2820318.13</td>\n      <td>2.534052e+06</td>\n      <td>1</td>\n      <td>400</td>\n      <td>130.627992</td>\n      <td>41.5</td>\n      <td>118.954545</td>\n      <td>False</td>\n      <td>True</td>\n      <td>0.461522</td>\n      <td>1.0</td>\n      <td>0.704545</td>\n      <td>C</td>\n      <td>True</td>\n      <td>True</td>\n      <td>True</td>\n      <td>True</td>\n      <td>False</td>\n      <td>4</td>\n      <td>False</td>\n      <td>True</td>\n      <td>False</td>\n      <td>False</td>\n      <td>0</td>\n      <td>False</td>\n    </tr>\n    <tr>\n      <th>4</th>\n      <td>7</td>\n      <td>10256.20</td>\n      <td>3766080.24</td>\n      <td>3776336.45</td>\n      <td>C553264065</td>\n      <td>109985.65</td>\n      <td>99729.44</td>\n      <td>0</td>\n      <td>False</td>\n      <td>-0.00</td>\n      <td>44</td>\n      <td>181.00</td>\n      <td>1447322.21</td>\n      <td>252655.757617</td>\n      <td>139366.105</td>\n      <td>225517.832045</td>\n      <td>0.0</td>\n      <td>21782433.66</td>\n      <td>5.109399e+06</td>\n      <td>10170.5</td>\n      <td>1.915190e+06</td>\n      <td>0.00</td>\n      <td>22012047.86</td>\n      <td>5.160588e+06</td>\n      <td>0.00</td>\n      <td>1.971241e+06</td>\n      <td>0.0</td>\n      <td>4115621.95</td>\n      <td>1.311491e+06</td>\n      <td>2820318.13</td>\n      <td>2.455461e+06</td>\n      <td>0.0</td>\n      <td>4115621.95</td>\n      <td>1.279824e+06</td>\n      <td>2820318.13</td>\n      <td>2.534052e+06</td>\n      <td>1</td>\n      <td>400</td>\n      <td>130.627992</td>\n      <td>41.5</td>\n      <td>118.954545</td>\n      <td>False</td>\n      <td>True</td>\n      <td>0.461522</td>\n      <td>1.0</td>\n      <td>0.704545</td>\n      <td>C</td>\n      <td>True</td>\n      <td>True</td>\n      <td>True</td>\n      <td>True</td>\n      <td>False</td>\n      <td>0</td>\n      <td>False</td>\n      <td>False</td>\n      <td>True</td>\n      <td>False</td>\n      <td>0</td>\n      <td>False</td>\n    </tr>\n  </tbody>\n</table>\n</div>"
     },
     "execution_count": 2,
     "metadata": {},
     "output_type": "execute_result"
    }
   ],
   "source": [
    "transactions = pd.read_csv('onlinefraud_with_features.csv')\n",
    "transactions.head()"
   ],
   "metadata": {
    "collapsed": false
   }
  },
  {
   "cell_type": "code",
   "execution_count": 3,
   "outputs": [],
   "source": [
    "transactions['nameDestFirstLetterIsM'] = transactions['nameDestFirstLetter'] == 'M'\n",
    "transactions.drop(columns=['nameDestFirstLetter'], inplace=True)"
   ],
   "metadata": {
    "collapsed": false
   }
  },
  {
   "cell_type": "markdown",
   "source": [
    "## Split data into train, test and validation sets"
   ],
   "metadata": {
    "collapsed": false
   }
  },
  {
   "cell_type": "code",
   "execution_count": 4,
   "outputs": [],
   "source": [
    "train_size = 0.5\n",
    "test_size = 0.2\n",
    "validation_size = 0.3\n",
    "assert train_size + test_size + validation_size == 1\n",
    "\n",
    "target_column = 'isFraud'\n",
    "X = transactions.drop(columns=target_column)\n",
    "y = transactions[target_column]\n",
    "\n",
    "random_state = 42\n",
    "\n",
    "datasets = {}"
   ],
   "metadata": {
    "collapsed": false
   }
  },
  {
   "cell_type": "markdown",
   "source": [
    "### Common split"
   ],
   "metadata": {
    "collapsed": false
   }
  },
  {
   "cell_type": "markdown",
   "source": [
    "In this case we just split data with respect to labels to keep the same positive and negative classes balance in sets."
   ],
   "metadata": {
    "collapsed": false
   }
  },
  {
   "cell_type": "code",
   "execution_count": 5,
   "outputs": [],
   "source": [
    "def add_common_splitted_data(X, y, key='common'):\n",
    "    X_train, X_remaining, y_train, y_remaining = train_test_split(\n",
    "        X,\n",
    "        y,\n",
    "        train_size=train_size,\n",
    "        random_state=random_state,\n",
    "        stratify=y\n",
    "    )\n",
    "\n",
    "    X_validation, X_test, y_validation, y_test = train_test_split(\n",
    "        X_remaining,\n",
    "        y_remaining,\n",
    "        test_size=test_size / (test_size + validation_size),\n",
    "        stratify=y_remaining\n",
    "    )\n",
    "\n",
    "    datasets[key] = {\n",
    "        'X': {\n",
    "            'train': X_train,\n",
    "            'test': X_test,\n",
    "            'validation': X_validation\n",
    "        },\n",
    "        'y': {\n",
    "            'train': y_train,\n",
    "            'test': y_test,\n",
    "            'validation': y_validation\n",
    "        }\n",
    "    }\n",
    "add_common_splitted_data(X, y)"
   ],
   "metadata": {
    "collapsed": false
   }
  },
  {
   "cell_type": "markdown",
   "source": [
    "### Group split"
   ],
   "metadata": {
    "collapsed": false
   }
  },
  {
   "cell_type": "markdown",
   "source": [
    "We use this split to keep all data with the same destination name in one set, to prevent data leak."
   ],
   "metadata": {
    "collapsed": false
   }
  },
  {
   "cell_type": "code",
   "execution_count": 6,
   "outputs": [
    {
     "data": {
      "text/plain": "0.00129"
     },
     "execution_count": 6,
     "metadata": {},
     "output_type": "execute_result"
    }
   ],
   "source": [
    "round(y.mean(), 5)"
   ],
   "metadata": {
    "collapsed": false
   }
  },
  {
   "cell_type": "code",
   "execution_count": 7,
   "outputs": [
    {
     "data": {
      "text/plain": "0.00126"
     },
     "execution_count": 7,
     "metadata": {},
     "output_type": "execute_result"
    }
   ],
   "source": [
    "round(transactions.groupby('nameDest')[target_column].mean().apply(lambda value: int(value * 2) - int(value)).mean(), 5)"
   ],
   "metadata": {
    "collapsed": false
   }
  },
  {
   "cell_type": "markdown",
   "source": [
    "As we can see, if we group data by nameDest and define class label as label of the major part of the group, we will receive the same balance of classes."
   ],
   "metadata": {
    "collapsed": false
   }
  },
  {
   "cell_type": "code",
   "execution_count": 8,
   "outputs": [],
   "source": [
    "def train_test_split_group(*arrays, **kwargs):\n",
    "    group_name = kwargs.get('group_name')\n",
    "    if group_name is None:\n",
    "        return train_test_split_group(*arrays, **kwargs)\n",
    "    else:\n",
    "        del kwargs['group_name']\n",
    "\n",
    "    X = arrays[0]\n",
    "    Y = arrays[1]\n",
    "    data = pd.concat([X, Y], axis=1)\n",
    "    # define label of group as average of labels of this group, rounded to integer, according to math rules (<0.5 -> 0, >=0.5 -> 1)\n",
    "    grouped_data = data.groupby(group_name)[target_column].mean().apply(lambda value: int(value * 2) - int(value)).reset_index()\n",
    "    x = grouped_data[[group_name]]\n",
    "    y = grouped_data[target_column]\n",
    "    groups_train, _, _, _ = train_test_split(\n",
    "        x,\n",
    "        y,\n",
    "        stratify=y,\n",
    "        **kwargs\n",
    "    )\n",
    "    train_index = X[group_name].isin(groups_train[group_name].tolist())\n",
    "    test_index = ~train_index\n",
    "\n",
    "    X_train = X[train_index]\n",
    "    y_train = Y[train_index]\n",
    "\n",
    "    X_test = X[test_index]\n",
    "    y_test = Y[test_index]\n",
    "\n",
    "    return X_train, X_test, y_train, y_test"
   ],
   "metadata": {
    "collapsed": false
   }
  },
  {
   "cell_type": "code",
   "execution_count": 9,
   "outputs": [],
   "source": [
    "def add_group_splitted_data(X, y, key='group'):\n",
    "    X_train, X_remaining, y_train, y_remaining = train_test_split_group(X, y, group_name='nameDest', train_size=train_size)\n",
    "    X_validation, X_test, y_validation, y_test = train_test_split_group(\n",
    "        X_remaining,\n",
    "        y_remaining,\n",
    "        group_name='nameDest',\n",
    "        test_size=test_size / (test_size + validation_size)\n",
    "    )\n",
    "\n",
    "    datasets[key] = {\n",
    "        'X': {\n",
    "            'train': X_train,\n",
    "            'test': X_test,\n",
    "            'validation': X_validation\n",
    "        },\n",
    "        'y': {\n",
    "            'train': y_train,\n",
    "            'test': y_test,\n",
    "            'validation': y_validation\n",
    "        }\n",
    "    }\n",
    "    return X_train, X_test, X_validation, y_train, y_test, y_validation"
   ],
   "metadata": {
    "collapsed": false
   }
  },
  {
   "cell_type": "code",
   "execution_count": 10,
   "outputs": [],
   "source": [
    "X_train, X_test, X_validation, y_train, y_test, y_validation = add_group_splitted_data(X, y)"
   ],
   "metadata": {
    "collapsed": false
   }
  },
  {
   "cell_type": "code",
   "execution_count": 11,
   "outputs": [
    {
     "name": "stdout",
     "output_type": "stream",
     "text": [
      "y_train_mean=0.0013\ty_test_mean=0.00131\n"
     ]
    }
   ],
   "source": [
    "y_train_mean = round(y_train.mean(), 5)\n",
    "y_test_mean = round(y_test.mean(), 5)\n",
    "print(f'{y_train_mean=}\\t{y_test_mean=}')"
   ],
   "metadata": {
    "collapsed": false
   }
  },
  {
   "cell_type": "code",
   "execution_count": 12,
   "outputs": [
    {
     "data": {
      "text/plain": "Empty DataFrame\nColumns: [step_x, amount_x, oldbalanceOrg_x, newbalanceOrig_x, nameDest, oldbalanceDest_x, newbalanceDest_x, has_debt_x, debt_x, origins_count_x, min_amount_x, max_amount_x, std_amount_x, median_amount_x, mean_amount_x, min_oldbalanceOrg_x, max_oldbalanceOrg_x, std_oldbalanceOrg_x, median_oldbalanceOrg_x, mean_oldbalanceOrg_x, min_newbalanceOrig_x, max_newbalanceOrig_x, std_newbalanceOrig_x, median_newbalanceOrig_x, mean_newbalanceOrig_x, min_oldbalanceDest_x, max_oldbalanceDest_x, std_oldbalanceDest_x, median_oldbalanceDest_x, mean_oldbalanceDest_x, min_newbalanceDest_x, max_newbalanceDest_x, std_newbalanceDest_x, median_newbalanceDest_x, mean_newbalanceDest_x, min_step_x, max_step_x, std_step_x, median_step_x, mean_step_x, min_has_debt_x, max_has_debt_x, std_has_debt_x, median_has_debt_x, mean_has_debt_x, amount_has_cents_x, amount_has_units_x, amount_has_tens_x, amount_has_hundreds_x, amount_is_equal_to_balance_x, type_code_x, type=PAYMENT_x, type=TRANSFER_x, type=CASH_IN_x, type=CASH_OUT_x, nameDestFirstLetter_code_x, nameDestFirstLetter=M_x, nameDestFirstLetterIsM_x, step_y, amount_y, oldbalanceOrg_y, newbalanceOrig_y, oldbalanceDest_y, newbalanceDest_y, has_debt_y, debt_y, origins_count_y, min_amount_y, max_amount_y, std_amount_y, median_amount_y, mean_amount_y, min_oldbalanceOrg_y, max_oldbalanceOrg_y, std_oldbalanceOrg_y, median_oldbalanceOrg_y, mean_oldbalanceOrg_y, min_newbalanceOrig_y, max_newbalanceOrig_y, std_newbalanceOrig_y, median_newbalanceOrig_y, mean_newbalanceOrig_y, min_oldbalanceDest_y, max_oldbalanceDest_y, std_oldbalanceDest_y, median_oldbalanceDest_y, mean_oldbalanceDest_y, min_newbalanceDest_y, max_newbalanceDest_y, std_newbalanceDest_y, median_newbalanceDest_y, mean_newbalanceDest_y, min_step_y, max_step_y, std_step_y, median_step_y, mean_step_y, min_has_debt_y, max_has_debt_y, std_has_debt_y, ...]\nIndex: []",
      "text/html": "<div>\n<style scoped>\n    .dataframe tbody tr th:only-of-type {\n        vertical-align: middle;\n    }\n\n    .dataframe tbody tr th {\n        vertical-align: top;\n    }\n\n    .dataframe thead th {\n        text-align: right;\n    }\n</style>\n<table border=\"1\" class=\"dataframe\">\n  <thead>\n    <tr style=\"text-align: right;\">\n      <th></th>\n      <th>step_x</th>\n      <th>amount_x</th>\n      <th>oldbalanceOrg_x</th>\n      <th>newbalanceOrig_x</th>\n      <th>nameDest</th>\n      <th>oldbalanceDest_x</th>\n      <th>newbalanceDest_x</th>\n      <th>has_debt_x</th>\n      <th>debt_x</th>\n      <th>origins_count_x</th>\n      <th>min_amount_x</th>\n      <th>max_amount_x</th>\n      <th>std_amount_x</th>\n      <th>median_amount_x</th>\n      <th>mean_amount_x</th>\n      <th>min_oldbalanceOrg_x</th>\n      <th>max_oldbalanceOrg_x</th>\n      <th>std_oldbalanceOrg_x</th>\n      <th>median_oldbalanceOrg_x</th>\n      <th>mean_oldbalanceOrg_x</th>\n      <th>min_newbalanceOrig_x</th>\n      <th>max_newbalanceOrig_x</th>\n      <th>std_newbalanceOrig_x</th>\n      <th>median_newbalanceOrig_x</th>\n      <th>mean_newbalanceOrig_x</th>\n      <th>min_oldbalanceDest_x</th>\n      <th>max_oldbalanceDest_x</th>\n      <th>std_oldbalanceDest_x</th>\n      <th>median_oldbalanceDest_x</th>\n      <th>mean_oldbalanceDest_x</th>\n      <th>min_newbalanceDest_x</th>\n      <th>max_newbalanceDest_x</th>\n      <th>std_newbalanceDest_x</th>\n      <th>median_newbalanceDest_x</th>\n      <th>mean_newbalanceDest_x</th>\n      <th>min_step_x</th>\n      <th>max_step_x</th>\n      <th>std_step_x</th>\n      <th>median_step_x</th>\n      <th>mean_step_x</th>\n      <th>min_has_debt_x</th>\n      <th>max_has_debt_x</th>\n      <th>std_has_debt_x</th>\n      <th>median_has_debt_x</th>\n      <th>mean_has_debt_x</th>\n      <th>amount_has_cents_x</th>\n      <th>amount_has_units_x</th>\n      <th>amount_has_tens_x</th>\n      <th>amount_has_hundreds_x</th>\n      <th>amount_is_equal_to_balance_x</th>\n      <th>type_code_x</th>\n      <th>type=PAYMENT_x</th>\n      <th>type=TRANSFER_x</th>\n      <th>type=CASH_IN_x</th>\n      <th>type=CASH_OUT_x</th>\n      <th>nameDestFirstLetter_code_x</th>\n      <th>nameDestFirstLetter=M_x</th>\n      <th>nameDestFirstLetterIsM_x</th>\n      <th>step_y</th>\n      <th>amount_y</th>\n      <th>oldbalanceOrg_y</th>\n      <th>newbalanceOrig_y</th>\n      <th>oldbalanceDest_y</th>\n      <th>newbalanceDest_y</th>\n      <th>has_debt_y</th>\n      <th>debt_y</th>\n      <th>origins_count_y</th>\n      <th>min_amount_y</th>\n      <th>max_amount_y</th>\n      <th>std_amount_y</th>\n      <th>median_amount_y</th>\n      <th>mean_amount_y</th>\n      <th>min_oldbalanceOrg_y</th>\n      <th>max_oldbalanceOrg_y</th>\n      <th>std_oldbalanceOrg_y</th>\n      <th>median_oldbalanceOrg_y</th>\n      <th>mean_oldbalanceOrg_y</th>\n      <th>min_newbalanceOrig_y</th>\n      <th>max_newbalanceOrig_y</th>\n      <th>std_newbalanceOrig_y</th>\n      <th>median_newbalanceOrig_y</th>\n      <th>mean_newbalanceOrig_y</th>\n      <th>min_oldbalanceDest_y</th>\n      <th>max_oldbalanceDest_y</th>\n      <th>std_oldbalanceDest_y</th>\n      <th>median_oldbalanceDest_y</th>\n      <th>mean_oldbalanceDest_y</th>\n      <th>min_newbalanceDest_y</th>\n      <th>max_newbalanceDest_y</th>\n      <th>std_newbalanceDest_y</th>\n      <th>median_newbalanceDest_y</th>\n      <th>mean_newbalanceDest_y</th>\n      <th>min_step_y</th>\n      <th>max_step_y</th>\n      <th>std_step_y</th>\n      <th>median_step_y</th>\n      <th>mean_step_y</th>\n      <th>min_has_debt_y</th>\n      <th>max_has_debt_y</th>\n      <th>std_has_debt_y</th>\n      <th>median_has_debt_y</th>\n      <th>mean_has_debt_y</th>\n      <th>amount_has_cents_y</th>\n      <th>amount_has_units_y</th>\n      <th>amount_has_tens_y</th>\n      <th>amount_has_hundreds_y</th>\n      <th>amount_is_equal_to_balance_y</th>\n      <th>type_code_y</th>\n      <th>type=PAYMENT_y</th>\n      <th>type=TRANSFER_y</th>\n      <th>type=CASH_IN_y</th>\n      <th>type=CASH_OUT_y</th>\n      <th>nameDestFirstLetter_code_y</th>\n      <th>nameDestFirstLetter=M_y</th>\n      <th>nameDestFirstLetterIsM_y</th>\n    </tr>\n  </thead>\n  <tbody>\n  </tbody>\n</table>\n</div>"
     },
     "execution_count": 12,
     "metadata": {},
     "output_type": "execute_result"
    }
   ],
   "source": [
    "pd.merge(\n",
    "    left=X_train,\n",
    "    right=X_test,\n",
    "    on='nameDest'\n",
    ")"
   ],
   "metadata": {
    "collapsed": false
   }
  },
  {
   "cell_type": "markdown",
   "source": [
    "Our split allowed us to keep the same balance of classes in sets, and also keep all transactions of one recipient in one set to avoid data leek"
   ],
   "metadata": {
    "collapsed": false
   }
  },
  {
   "cell_type": "markdown",
   "source": [
    "### Split only types of interest"
   ],
   "metadata": {
    "collapsed": false
   }
  },
  {
   "cell_type": "markdown",
   "source": [
    "Not each type of transaction has fraud transactions. Let's simplify data for model and remove types of transactions which doesn't have fraud."
   ],
   "metadata": {
    "collapsed": false
   }
  },
  {
   "cell_type": "code",
   "execution_count": 13,
   "outputs": [],
   "source": [
    "transactions_of_interest = transactions[transactions['type=TRANSFER'] | transactions['type=CASH_OUT']]\n",
    "X = transactions_of_interest.drop(columns=target_column)\n",
    "y = transactions_of_interest[target_column]\n",
    "add_common_splitted_data(X, y, 'common_main_types')\n",
    "_ = add_group_splitted_data(X, y, 'group_main_types')"
   ],
   "metadata": {
    "collapsed": false
   }
  },
  {
   "cell_type": "code",
   "execution_count": 14,
   "outputs": [
    {
     "data": {
      "text/plain": "dict_keys(['common', 'group', 'common_main_types', 'group_main_types'])"
     },
     "execution_count": 14,
     "metadata": {},
     "output_type": "execute_result"
    }
   ],
   "source": [
    "datasets.keys()"
   ],
   "metadata": {
    "collapsed": false
   }
  },
  {
   "cell_type": "code",
   "execution_count": 15,
   "outputs": [
    {
     "name": "stdout",
     "output_type": "stream",
     "text": [
      "common\n",
      "\n",
      "train\n",
      "dataset['X'][set_type].shape=(3181310, 58)\tdataset['y'][set_type].shape=(3181310,)\n",
      "\n",
      "test\n",
      "dataset['X'][set_type].shape=(1272524, 58)\tdataset['y'][set_type].shape=(1272524,)\n",
      "\n",
      "validation\n",
      "dataset['X'][set_type].shape=(1908786, 58)\tdataset['y'][set_type].shape=(1908786,)\n",
      "\n",
      "\n",
      "group\n",
      "\n",
      "train\n",
      "dataset['X'][set_type].shape=(3182425, 58)\tdataset['y'][set_type].shape=(3182425,)\n",
      "\n",
      "test\n",
      "dataset['X'][set_type].shape=(1271213, 58)\tdataset['y'][set_type].shape=(1271213,)\n",
      "\n",
      "validation\n",
      "dataset['X'][set_type].shape=(1908982, 58)\tdataset['y'][set_type].shape=(1908982,)\n",
      "\n",
      "\n",
      "common_main_types\n",
      "\n",
      "train\n",
      "dataset['X'][set_type].shape=(1385204, 58)\tdataset['y'][set_type].shape=(1385204,)\n",
      "\n",
      "test\n",
      "dataset['X'][set_type].shape=(554082, 58)\tdataset['y'][set_type].shape=(554082,)\n",
      "\n",
      "validation\n",
      "dataset['X'][set_type].shape=(831123, 58)\tdataset['y'][set_type].shape=(831123,)\n",
      "\n",
      "\n",
      "group_main_types\n",
      "\n",
      "train\n",
      "dataset['X'][set_type].shape=(1384082, 58)\tdataset['y'][set_type].shape=(1384082,)\n",
      "\n",
      "test\n",
      "dataset['X'][set_type].shape=(555900, 58)\tdataset['y'][set_type].shape=(555900,)\n",
      "\n",
      "validation\n",
      "dataset['X'][set_type].shape=(830427, 58)\tdataset['y'][set_type].shape=(830427,)\n",
      "\n",
      "\n"
     ]
    }
   ],
   "source": [
    "for dataset_name, dataset in datasets.items():\n",
    "    print(dataset_name)\n",
    "    for set_type in ['train', 'test', 'validation']:\n",
    "        print()\n",
    "        print(set_type)\n",
    "        print(f\"{dataset['X'][set_type].shape=}\\t{dataset['y'][set_type].shape=}\")\n",
    "    print('\\n')"
   ],
   "metadata": {
    "collapsed": false
   }
  },
  {
   "cell_type": "markdown",
   "source": [
    "### Standardization"
   ],
   "metadata": {
    "collapsed": false
   }
  },
  {
   "cell_type": "code",
   "execution_count": 16,
   "outputs": [
    {
     "name": "stderr",
     "output_type": "stream",
     "text": [
      "100%|██████████| 4/4 [17:44<00:00, 266.08s/it]\n"
     ]
    }
   ],
   "source": [
    "from sklearn.preprocessing import StandardScaler\n",
    "import os\n",
    "from tqdm import tqdm\n",
    "\n",
    "columns_to_drop = ['nameDest']\n",
    "for dataset_name, dataset in tqdm(datasets.items()):\n",
    "    X = dataset['X']\n",
    "    y = dataset['y']\n",
    "\n",
    "    scaler = StandardScaler()\n",
    "\n",
    "    columns = X['train'].drop(columns=columns_to_drop).columns\n",
    "    train = scaler.fit_transform(X['train'].drop(columns=columns_to_drop))\n",
    "    test = scaler.transform(X['test'].drop(columns=columns_to_drop))\n",
    "    validation = scaler.transform(X['validation'].drop(columns=columns_to_drop))\n",
    "\n",
    "    X['train'] = pd.DataFrame(train, columns=columns)\n",
    "    X['test'] = pd.DataFrame(test, columns=columns)\n",
    "    X['validation'] = pd.DataFrame(validation, columns=columns)\n",
    "\n",
    "    del train\n",
    "    del test\n",
    "    del validation\n",
    "\n",
    "    for key, value in tqdm(X.items()):\n",
    "        dir_name = 'data'\n",
    "        if not os.path.isdir(dir_name):\n",
    "            os.mkdir(dir_name)\n",
    "        value.to_csv(f'./{dir_name}/x_{dataset_name}_{key}.csv', index=False)\n",
    "        y[key].to_csv(f'./{dir_name}/y_{dataset_name}_{key}.csv', index=False)"
   ],
   "metadata": {
    "collapsed": false
   }
  },
  {
   "cell_type": "code",
   "execution_count": 17,
   "outputs": [],
   "source": [
    "data = datasets['group_main_types']\n",
    "X = data['X']\n",
    "y = data['y']\n",
    "\n",
    "X_train, X_test, X_validation = X['train'], X['test'], X['validation']\n",
    "y_train, y_test, y_validation = y['train'], y['test'], y['validation']\n",
    "\n",
    "del datasets\n",
    "del transactions"
   ],
   "metadata": {
    "collapsed": false
   }
  },
  {
   "cell_type": "markdown",
   "source": [
    "# Dimensionality reduction"
   ],
   "metadata": {
    "collapsed": false
   }
  },
  {
   "cell_type": "markdown",
   "source": [
    "Let's reduce number of dimensions to achieve better results"
   ],
   "metadata": {
    "collapsed": false
   }
  },
  {
   "cell_type": "code",
   "execution_count": 21,
   "outputs": [
    {
     "data": {
      "text/plain": "<Figure size 2000x900 with 1 Axes>",
      "image/png": "[encoded data removed]"
     },
     "metadata": {},
     "output_type": "display_data"
    }
   ],
   "source": [
    "from sklearn.decomposition import PCA\n",
    "\n",
    "pca = PCA()\n",
    "pca.fit_transform(X_validation)\n",
    "pca_variance = pca.explained_variance_\n",
    "\n",
    "plt.bar(range(X_validation.shape[1]), pca_variance, alpha=0.5, align='center', label='individual variance')\n",
    "plt.legend()\n",
    "plt.ylabel('Variance ratio')\n",
    "plt.xlabel('Principal components')\n",
    "plt.show()"
   ],
   "metadata": {
    "collapsed": false
   }
  },
  {
   "cell_type": "markdown",
   "source": [
    "As we can see, about 20 features are the most informative according to PCA. But we want to keep data easy to interpret, so let's choose other methods for dimensionality reduciton."
   ],
   "metadata": {
    "collapsed": false
   }
  },
  {
   "cell_type": "markdown",
   "source": [],
   "metadata": {
    "collapsed": false
   }
  }
 ],
 "metadata": {
  "kernelspec": {
   "display_name": "Python 3",
   "language": "python",
   "name": "python3"
  },
  "language_info": {
   "codemirror_mode": {
    "name": "ipython",
    "version": 2
   },
   "file_extension": ".py",
   "mimetype": "text/x-python",
   "name": "python",
   "nbconvert_exporter": "python",
   "pygments_lexer": "ipython2",
   "version": "2.7.6"
  }
 },
 "nbformat": 4,
 "nbformat_minor": 0
}
